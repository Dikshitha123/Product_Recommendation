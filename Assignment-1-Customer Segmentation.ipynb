{
 "cells": [
  {
   "cell_type": "markdown",
   "metadata": {},
   "source": [
    "## Explore and identify different segments present in the customer transaction data."
   ]
  },
  {
   "cell_type": "markdown",
   "metadata": {},
   "source": [
    "* Lets Identify and segment the Most Purchased customers to less purchased customers based on the data. \n",
    "* Lets segment the customers based on the country.\n",
    "* Lets segment the most bought items based on every month"
   ]
  },
  {
   "cell_type": "code",
   "execution_count": 1,
   "metadata": {},
   "outputs": [],
   "source": [
    "#Import Required Libraries\n",
    "import pandas as pd\n",
    "import numpy as np\n",
    "from matplotlib import pyplot as plt\n",
    "%matplotlib inline\n",
    "import matplotlib\n",
    "matplotlib.rcParams[\"figure.figsize\"] = (20,10)"
   ]
  },
  {
   "cell_type": "code",
   "execution_count": 2,
   "metadata": {},
   "outputs": [
    {
     "data": {
      "text/html": [
       "<div>\n",
       "<style scoped>\n",
       "    .dataframe tbody tr th:only-of-type {\n",
       "        vertical-align: middle;\n",
       "    }\n",
       "\n",
       "    .dataframe tbody tr th {\n",
       "        vertical-align: top;\n",
       "    }\n",
       "\n",
       "    .dataframe thead th {\n",
       "        text-align: right;\n",
       "    }\n",
       "</style>\n",
       "<table border=\"1\" class=\"dataframe\">\n",
       "  <thead>\n",
       "    <tr style=\"text-align: right;\">\n",
       "      <th></th>\n",
       "      <th>UserId</th>\n",
       "      <th>TransactionId</th>\n",
       "      <th>TransactionTime</th>\n",
       "      <th>ItemCode</th>\n",
       "      <th>ItemDescription</th>\n",
       "      <th>NumberOfItemsPurchased</th>\n",
       "      <th>CostPerItem</th>\n",
       "      <th>Country</th>\n",
       "    </tr>\n",
       "  </thead>\n",
       "  <tbody>\n",
       "    <tr>\n",
       "      <th>0</th>\n",
       "      <td>278166</td>\n",
       "      <td>6355745</td>\n",
       "      <td>Sat Feb 02 12:50:00 IST 2019</td>\n",
       "      <td>465549</td>\n",
       "      <td>FAMILY ALBUM WHITE PICTURE FRAME</td>\n",
       "      <td>6</td>\n",
       "      <td>11.73</td>\n",
       "      <td>United Kingdom</td>\n",
       "    </tr>\n",
       "    <tr>\n",
       "      <th>1</th>\n",
       "      <td>337701</td>\n",
       "      <td>6283376</td>\n",
       "      <td>Wed Dec 26 09:06:00 IST 2018</td>\n",
       "      <td>482370</td>\n",
       "      <td>LONDON BUS COFFEE MUG</td>\n",
       "      <td>3</td>\n",
       "      <td>3.52</td>\n",
       "      <td>United Kingdom</td>\n",
       "    </tr>\n",
       "    <tr>\n",
       "      <th>2</th>\n",
       "      <td>267099</td>\n",
       "      <td>6385599</td>\n",
       "      <td>Fri Feb 15 09:45:00 IST 2019</td>\n",
       "      <td>490728</td>\n",
       "      <td>SET 12 COLOUR PENCILS DOLLY GIRL</td>\n",
       "      <td>72</td>\n",
       "      <td>0.90</td>\n",
       "      <td>France</td>\n",
       "    </tr>\n",
       "    <tr>\n",
       "      <th>3</th>\n",
       "      <td>380478</td>\n",
       "      <td>6044973</td>\n",
       "      <td>Fri Jun 22 07:14:00 IST 2018</td>\n",
       "      <td>459186</td>\n",
       "      <td>UNION JACK FLAG LUGGAGE TAG</td>\n",
       "      <td>3</td>\n",
       "      <td>1.73</td>\n",
       "      <td>United Kingdom</td>\n",
       "    </tr>\n",
       "    <tr>\n",
       "      <th>4</th>\n",
       "      <td>-1</td>\n",
       "      <td>6143225</td>\n",
       "      <td>Mon Sep 10 11:58:00 IST 2018</td>\n",
       "      <td>1733592</td>\n",
       "      <td>WASHROOM METAL SIGN</td>\n",
       "      <td>3</td>\n",
       "      <td>3.40</td>\n",
       "      <td>United Kingdom</td>\n",
       "    </tr>\n",
       "  </tbody>\n",
       "</table>\n",
       "</div>"
      ],
      "text/plain": [
       "   UserId  TransactionId               TransactionTime  ItemCode  \\\n",
       "0  278166        6355745  Sat Feb 02 12:50:00 IST 2019    465549   \n",
       "1  337701        6283376  Wed Dec 26 09:06:00 IST 2018    482370   \n",
       "2  267099        6385599  Fri Feb 15 09:45:00 IST 2019    490728   \n",
       "3  380478        6044973  Fri Jun 22 07:14:00 IST 2018    459186   \n",
       "4      -1        6143225  Mon Sep 10 11:58:00 IST 2018   1733592   \n",
       "\n",
       "                     ItemDescription  NumberOfItemsPurchased  CostPerItem  \\\n",
       "0   FAMILY ALBUM WHITE PICTURE FRAME                       6        11.73   \n",
       "1              LONDON BUS COFFEE MUG                       3         3.52   \n",
       "2  SET 12 COLOUR PENCILS DOLLY GIRL                       72         0.90   \n",
       "3        UNION JACK FLAG LUGGAGE TAG                       3         1.73   \n",
       "4                WASHROOM METAL SIGN                       3         3.40   \n",
       "\n",
       "          Country  \n",
       "0  United Kingdom  \n",
       "1  United Kingdom  \n",
       "2          France  \n",
       "3  United Kingdom  \n",
       "4  United Kingdom  "
      ]
     },
     "execution_count": 2,
     "metadata": {},
     "output_type": "execute_result"
    }
   ],
   "source": [
    "#Read the data from given CSV file\n",
    "Main_Dataset = pd.read_csv(\"transaction_data.csv\")\n",
    "Main_Dataset.head()"
   ]
  },
  {
   "cell_type": "code",
   "execution_count": 3,
   "metadata": {},
   "outputs": [
    {
     "data": {
      "text/plain": [
       "(1083818, 8)"
      ]
     },
     "execution_count": 3,
     "metadata": {},
     "output_type": "execute_result"
    }
   ],
   "source": [
    "#To see number of rows and columns present in data\n",
    "Main_Dataset.shape"
   ]
  },
  {
   "cell_type": "markdown",
   "metadata": {},
   "source": [
    "Here we have 10,83,818 rows and 8 columns present in csv file"
   ]
  },
  {
   "cell_type": "code",
   "execution_count": 5,
   "metadata": {},
   "outputs": [
    {
     "data": {
      "text/plain": [
       "UserId                      int64\n",
       "TransactionId               int64\n",
       "TransactionTime            object\n",
       "ItemCode                    int64\n",
       "ItemDescription            object\n",
       "NumberOfItemsPurchased      int64\n",
       "CostPerItem               float64\n",
       "Country                    object\n",
       "dtype: object"
      ]
     },
     "execution_count": 5,
     "metadata": {},
     "output_type": "execute_result"
    }
   ],
   "source": [
    "#To check the datatypes of each column\n",
    "Main_Dataset.dtypes"
   ]
  },
  {
   "cell_type": "code",
   "execution_count": 6,
   "metadata": {},
   "outputs": [
    {
     "name": "stdout",
     "output_type": "stream",
     "text": [
      "<class 'pandas.core.frame.DataFrame'>\n",
      "RangeIndex: 1083818 entries, 0 to 1083817\n",
      "Data columns (total 8 columns):\n",
      " #   Column                  Non-Null Count    Dtype  \n",
      "---  ------                  --------------    -----  \n",
      " 0   UserId                  1083818 non-null  int64  \n",
      " 1   TransactionId           1083818 non-null  int64  \n",
      " 2   TransactionTime         1083818 non-null  object \n",
      " 3   ItemCode                1083818 non-null  int64  \n",
      " 4   ItemDescription         1080910 non-null  object \n",
      " 5   NumberOfItemsPurchased  1083818 non-null  int64  \n",
      " 6   CostPerItem             1083818 non-null  float64\n",
      " 7   Country                 1083818 non-null  object \n",
      "dtypes: float64(1), int64(4), object(3)\n",
      "memory usage: 66.2+ MB\n"
     ]
    }
   ],
   "source": [
    "Main_Dataset.info()"
   ]
  },
  {
   "cell_type": "markdown",
   "metadata": {},
   "source": [
    "Here we have a large Dataset. To make the work easy and for testing purpose we divide the file into chunks"
   ]
  },
  {
   "cell_type": "markdown",
   "metadata": {},
   "source": [
    "## Data Cleaning"
   ]
  },
  {
   "cell_type": "markdown",
   "metadata": {},
   "source": [
    "Lets start data cleaning with \"TransactionTime\" column by converting to datetime datatype"
   ]
  },
  {
   "cell_type": "code",
   "execution_count": 7,
   "metadata": {},
   "outputs": [],
   "source": [
    "#Converting date and time into a proper format and datatype as datetime in Main Dataset\n",
    "Main_Dataset[\"TransactionTime\"]= pd.to_datetime(Main_Dataset[\"TransactionTime\"], format='%a %b %d %H:%M:%S IST %Y', errors='ignore') "
   ]
  },
  {
   "cell_type": "code",
   "execution_count": 8,
   "metadata": {},
   "outputs": [
    {
     "data": {
      "text/html": [
       "<div>\n",
       "<style scoped>\n",
       "    .dataframe tbody tr th:only-of-type {\n",
       "        vertical-align: middle;\n",
       "    }\n",
       "\n",
       "    .dataframe tbody tr th {\n",
       "        vertical-align: top;\n",
       "    }\n",
       "\n",
       "    .dataframe thead th {\n",
       "        text-align: right;\n",
       "    }\n",
       "</style>\n",
       "<table border=\"1\" class=\"dataframe\">\n",
       "  <thead>\n",
       "    <tr style=\"text-align: right;\">\n",
       "      <th></th>\n",
       "      <th>UserId</th>\n",
       "      <th>TransactionId</th>\n",
       "      <th>TransactionTime</th>\n",
       "      <th>ItemCode</th>\n",
       "      <th>ItemDescription</th>\n",
       "      <th>NumberOfItemsPurchased</th>\n",
       "      <th>CostPerItem</th>\n",
       "      <th>Country</th>\n",
       "    </tr>\n",
       "  </thead>\n",
       "  <tbody>\n",
       "    <tr>\n",
       "      <th>0</th>\n",
       "      <td>278166</td>\n",
       "      <td>6355745</td>\n",
       "      <td>2019-02-02 12:50:00</td>\n",
       "      <td>465549</td>\n",
       "      <td>FAMILY ALBUM WHITE PICTURE FRAME</td>\n",
       "      <td>6</td>\n",
       "      <td>11.73</td>\n",
       "      <td>United Kingdom</td>\n",
       "    </tr>\n",
       "    <tr>\n",
       "      <th>1</th>\n",
       "      <td>337701</td>\n",
       "      <td>6283376</td>\n",
       "      <td>2018-12-26 09:06:00</td>\n",
       "      <td>482370</td>\n",
       "      <td>LONDON BUS COFFEE MUG</td>\n",
       "      <td>3</td>\n",
       "      <td>3.52</td>\n",
       "      <td>United Kingdom</td>\n",
       "    </tr>\n",
       "    <tr>\n",
       "      <th>2</th>\n",
       "      <td>267099</td>\n",
       "      <td>6385599</td>\n",
       "      <td>2019-02-15 09:45:00</td>\n",
       "      <td>490728</td>\n",
       "      <td>SET 12 COLOUR PENCILS DOLLY GIRL</td>\n",
       "      <td>72</td>\n",
       "      <td>0.90</td>\n",
       "      <td>France</td>\n",
       "    </tr>\n",
       "    <tr>\n",
       "      <th>3</th>\n",
       "      <td>380478</td>\n",
       "      <td>6044973</td>\n",
       "      <td>2018-06-22 07:14:00</td>\n",
       "      <td>459186</td>\n",
       "      <td>UNION JACK FLAG LUGGAGE TAG</td>\n",
       "      <td>3</td>\n",
       "      <td>1.73</td>\n",
       "      <td>United Kingdom</td>\n",
       "    </tr>\n",
       "    <tr>\n",
       "      <th>4</th>\n",
       "      <td>-1</td>\n",
       "      <td>6143225</td>\n",
       "      <td>2018-09-10 11:58:00</td>\n",
       "      <td>1733592</td>\n",
       "      <td>WASHROOM METAL SIGN</td>\n",
       "      <td>3</td>\n",
       "      <td>3.40</td>\n",
       "      <td>United Kingdom</td>\n",
       "    </tr>\n",
       "    <tr>\n",
       "      <th>...</th>\n",
       "      <td>...</td>\n",
       "      <td>...</td>\n",
       "      <td>...</td>\n",
       "      <td>...</td>\n",
       "      <td>...</td>\n",
       "      <td>...</td>\n",
       "      <td>...</td>\n",
       "      <td>...</td>\n",
       "    </tr>\n",
       "    <tr>\n",
       "      <th>1083813</th>\n",
       "      <td>313131</td>\n",
       "      <td>6040298</td>\n",
       "      <td>2018-06-18 09:18:00</td>\n",
       "      <td>437976</td>\n",
       "      <td>DENIM PATCH PURSE PINK BUTTERFLY</td>\n",
       "      <td>30</td>\n",
       "      <td>2.28</td>\n",
       "      <td>EIRE</td>\n",
       "    </tr>\n",
       "    <tr>\n",
       "      <th>1083814</th>\n",
       "      <td>295743</td>\n",
       "      <td>6387117</td>\n",
       "      <td>2019-02-16 09:14:00</td>\n",
       "      <td>484113</td>\n",
       "      <td>RECYCLED ACAPULCO MAT PINK</td>\n",
       "      <td>6</td>\n",
       "      <td>11.39</td>\n",
       "      <td>United Kingdom</td>\n",
       "    </tr>\n",
       "    <tr>\n",
       "      <th>1083815</th>\n",
       "      <td>-1</td>\n",
       "      <td>6361817</td>\n",
       "      <td>2019-02-05 05:26:00</td>\n",
       "      <td>497595</td>\n",
       "      <td>DOILY THANK YOU CARD</td>\n",
       "      <td>15</td>\n",
       "      <td>1.15</td>\n",
       "      <td>United Kingdom</td>\n",
       "    </tr>\n",
       "    <tr>\n",
       "      <th>1083816</th>\n",
       "      <td>324765</td>\n",
       "      <td>5945500</td>\n",
       "      <td>2018-03-23 06:26:00</td>\n",
       "      <td>470883</td>\n",
       "      <td>REGENCY CAKESTAND 3 TIER</td>\n",
       "      <td>48</td>\n",
       "      <td>15.12</td>\n",
       "      <td>United Kingdom</td>\n",
       "    </tr>\n",
       "    <tr>\n",
       "      <th>1083817</th>\n",
       "      <td>351645</td>\n",
       "      <td>6118145</td>\n",
       "      <td>2018-08-21 08:21:00</td>\n",
       "      <td>471849</td>\n",
       "      <td>HEART OF WICKER SMALL</td>\n",
       "      <td>9</td>\n",
       "      <td>2.28</td>\n",
       "      <td>United Kingdom</td>\n",
       "    </tr>\n",
       "  </tbody>\n",
       "</table>\n",
       "<p>1083818 rows × 8 columns</p>\n",
       "</div>"
      ],
      "text/plain": [
       "         UserId  TransactionId     TransactionTime  ItemCode  \\\n",
       "0        278166        6355745 2019-02-02 12:50:00    465549   \n",
       "1        337701        6283376 2018-12-26 09:06:00    482370   \n",
       "2        267099        6385599 2019-02-15 09:45:00    490728   \n",
       "3        380478        6044973 2018-06-22 07:14:00    459186   \n",
       "4            -1        6143225 2018-09-10 11:58:00   1733592   \n",
       "...         ...            ...                 ...       ...   \n",
       "1083813  313131        6040298 2018-06-18 09:18:00    437976   \n",
       "1083814  295743        6387117 2019-02-16 09:14:00    484113   \n",
       "1083815      -1        6361817 2019-02-05 05:26:00    497595   \n",
       "1083816  324765        5945500 2018-03-23 06:26:00    470883   \n",
       "1083817  351645        6118145 2018-08-21 08:21:00    471849   \n",
       "\n",
       "                           ItemDescription  NumberOfItemsPurchased  \\\n",
       "0         FAMILY ALBUM WHITE PICTURE FRAME                       6   \n",
       "1                    LONDON BUS COFFEE MUG                       3   \n",
       "2        SET 12 COLOUR PENCILS DOLLY GIRL                       72   \n",
       "3              UNION JACK FLAG LUGGAGE TAG                       3   \n",
       "4                      WASHROOM METAL SIGN                       3   \n",
       "...                                    ...                     ...   \n",
       "1083813   DENIM PATCH PURSE PINK BUTTERFLY                      30   \n",
       "1083814         RECYCLED ACAPULCO MAT PINK                       6   \n",
       "1083815               DOILY THANK YOU CARD                      15   \n",
       "1083816           REGENCY CAKESTAND 3 TIER                      48   \n",
       "1083817              HEART OF WICKER SMALL                       9   \n",
       "\n",
       "         CostPerItem         Country  \n",
       "0              11.73  United Kingdom  \n",
       "1               3.52  United Kingdom  \n",
       "2               0.90          France  \n",
       "3               1.73  United Kingdom  \n",
       "4               3.40  United Kingdom  \n",
       "...              ...             ...  \n",
       "1083813         2.28            EIRE  \n",
       "1083814        11.39  United Kingdom  \n",
       "1083815         1.15  United Kingdom  \n",
       "1083816        15.12  United Kingdom  \n",
       "1083817         2.28  United Kingdom  \n",
       "\n",
       "[1083818 rows x 8 columns]"
      ]
     },
     "execution_count": 8,
     "metadata": {},
     "output_type": "execute_result"
    }
   ],
   "source": [
    "Main_Dataset"
   ]
  },
  {
   "cell_type": "code",
   "execution_count": 9,
   "metadata": {},
   "outputs": [
    {
     "data": {
      "text/plain": [
       "UserId                             int64\n",
       "TransactionId                      int64\n",
       "TransactionTime           datetime64[ns]\n",
       "ItemCode                           int64\n",
       "ItemDescription                   object\n",
       "NumberOfItemsPurchased             int64\n",
       "CostPerItem                      float64\n",
       "Country                           object\n",
       "dtype: object"
      ]
     },
     "execution_count": 9,
     "metadata": {},
     "output_type": "execute_result"
    }
   ],
   "source": []
  },
  {
   "cell_type": "code",
   "execution_count": 8,
   "metadata": {},
   "outputs": [
    {
     "name": "stdout",
     "output_type": "stream",
     "text": [
      "Transaction starts with timepoint 2018-02-12 04:26:00\n",
      "Transaction ends with timepoint 2028-02-18 14:36:00\n"
     ]
    }
   ],
   "source": [
    "print(\"Transaction starts with timepoint {}\".format(Main_Dataset.TransactionTime.min()))\n",
    "print(\"Transaction ends with timepoint {}\".format(Main_Dataset.TransactionTime.max()))"
   ]
  },
  {
   "cell_type": "markdown",
   "metadata": {},
   "source": [
    "Here we find the transaction for the year 2028 which is not possible to proceed with future date format. Hence we are going to delete those rows"
   ]
  },
  {
   "cell_type": "code",
   "execution_count": 9,
   "metadata": {},
   "outputs": [],
   "source": [
    "TransactionTime2028 = Main_Dataset[Main_Dataset['TransactionTime'].dt.strftime('%Y') == '2028'].index\n",
    "Main_Dataset.drop(TransactionTime2028, inplace=True)"
   ]
  },
  {
   "cell_type": "markdown",
   "metadata": {},
   "source": [
    "Now lets check for not available values which are present in data set"
   ]
  },
  {
   "cell_type": "code",
   "execution_count": 10,
   "metadata": {},
   "outputs": [
    {
     "data": {
      "text/plain": [
       "UserId                       0\n",
       "TransactionId                0\n",
       "TransactionTime              0\n",
       "ItemCode                     0\n",
       "ItemDescription           2892\n",
       "NumberOfItemsPurchased       0\n",
       "CostPerItem                  0\n",
       "Country                      0\n",
       "dtype: int64"
      ]
     },
     "execution_count": 10,
     "metadata": {},
     "output_type": "execute_result"
    }
   ],
   "source": [
    "Main_Dataset.isnull().sum()"
   ]
  },
  {
   "cell_type": "code",
   "execution_count": 11,
   "metadata": {},
   "outputs": [
    {
     "data": {
      "text/html": [
       "<div>\n",
       "<style scoped>\n",
       "    .dataframe tbody tr th:only-of-type {\n",
       "        vertical-align: middle;\n",
       "    }\n",
       "\n",
       "    .dataframe tbody tr th {\n",
       "        vertical-align: top;\n",
       "    }\n",
       "\n",
       "    .dataframe thead th {\n",
       "        text-align: right;\n",
       "    }\n",
       "</style>\n",
       "<table border=\"1\" class=\"dataframe\">\n",
       "  <thead>\n",
       "    <tr style=\"text-align: right;\">\n",
       "      <th></th>\n",
       "      <th>UserId</th>\n",
       "      <th>TransactionId</th>\n",
       "      <th>TransactionTime</th>\n",
       "      <th>ItemCode</th>\n",
       "      <th>ItemDescription</th>\n",
       "      <th>NumberOfItemsPurchased</th>\n",
       "      <th>CostPerItem</th>\n",
       "      <th>Country</th>\n",
       "    </tr>\n",
       "  </thead>\n",
       "  <tbody>\n",
       "    <tr>\n",
       "      <th>322</th>\n",
       "      <td>-1</td>\n",
       "      <td>6314803</td>\n",
       "      <td>2019-01-14 11:15:00</td>\n",
       "      <td>495159</td>\n",
       "      <td>NaN</td>\n",
       "      <td>9</td>\n",
       "      <td>0.0</td>\n",
       "      <td>United Kingdom</td>\n",
       "    </tr>\n",
       "    <tr>\n",
       "      <th>762</th>\n",
       "      <td>-1</td>\n",
       "      <td>6206420</td>\n",
       "      <td>2018-11-05 05:34:00</td>\n",
       "      <td>434364</td>\n",
       "      <td>NaN</td>\n",
       "      <td>3</td>\n",
       "      <td>0.0</td>\n",
       "      <td>United Kingdom</td>\n",
       "    </tr>\n",
       "    <tr>\n",
       "      <th>1080</th>\n",
       "      <td>-1</td>\n",
       "      <td>6297863</td>\n",
       "      <td>2019-01-05 12:06:00</td>\n",
       "      <td>1782417</td>\n",
       "      <td>NaN</td>\n",
       "      <td>-3</td>\n",
       "      <td>0.0</td>\n",
       "      <td>United Kingdom</td>\n",
       "    </tr>\n",
       "    <tr>\n",
       "      <th>2204</th>\n",
       "      <td>-1</td>\n",
       "      <td>6142961</td>\n",
       "      <td>2018-09-10 09:41:00</td>\n",
       "      <td>458157</td>\n",
       "      <td>NaN</td>\n",
       "      <td>-240</td>\n",
       "      <td>0.0</td>\n",
       "      <td>United Kingdom</td>\n",
       "    </tr>\n",
       "    <tr>\n",
       "      <th>2210</th>\n",
       "      <td>-1</td>\n",
       "      <td>6176445</td>\n",
       "      <td>2018-10-08 10:06:00</td>\n",
       "      <td>1666056</td>\n",
       "      <td>NaN</td>\n",
       "      <td>108</td>\n",
       "      <td>0.0</td>\n",
       "      <td>United Kingdom</td>\n",
       "    </tr>\n",
       "    <tr>\n",
       "      <th>...</th>\n",
       "      <td>...</td>\n",
       "      <td>...</td>\n",
       "      <td>...</td>\n",
       "      <td>...</td>\n",
       "      <td>...</td>\n",
       "      <td>...</td>\n",
       "      <td>...</td>\n",
       "      <td>...</td>\n",
       "    </tr>\n",
       "    <tr>\n",
       "      <th>1080070</th>\n",
       "      <td>-1</td>\n",
       "      <td>6074486</td>\n",
       "      <td>2018-07-18 11:26:00</td>\n",
       "      <td>462735</td>\n",
       "      <td>NaN</td>\n",
       "      <td>-480</td>\n",
       "      <td>0.0</td>\n",
       "      <td>United Kingdom</td>\n",
       "    </tr>\n",
       "    <tr>\n",
       "      <th>1080468</th>\n",
       "      <td>-1</td>\n",
       "      <td>6178260</td>\n",
       "      <td>2018-10-09 12:18:00</td>\n",
       "      <td>472542</td>\n",
       "      <td>NaN</td>\n",
       "      <td>3</td>\n",
       "      <td>0.0</td>\n",
       "      <td>United Kingdom</td>\n",
       "    </tr>\n",
       "    <tr>\n",
       "      <th>1080485</th>\n",
       "      <td>-1</td>\n",
       "      <td>6237649</td>\n",
       "      <td>2018-11-28 07:41:00</td>\n",
       "      <td>471492</td>\n",
       "      <td>NaN</td>\n",
       "      <td>-189</td>\n",
       "      <td>0.0</td>\n",
       "      <td>United Kingdom</td>\n",
       "    </tr>\n",
       "    <tr>\n",
       "      <th>1080983</th>\n",
       "      <td>-1</td>\n",
       "      <td>6128529</td>\n",
       "      <td>2018-08-29 05:34:00</td>\n",
       "      <td>755265</td>\n",
       "      <td>NaN</td>\n",
       "      <td>6</td>\n",
       "      <td>0.0</td>\n",
       "      <td>United Kingdom</td>\n",
       "    </tr>\n",
       "    <tr>\n",
       "      <th>1083739</th>\n",
       "      <td>-1</td>\n",
       "      <td>6167942</td>\n",
       "      <td>2018-10-01 09:37:00</td>\n",
       "      <td>337029</td>\n",
       "      <td>NaN</td>\n",
       "      <td>-93</td>\n",
       "      <td>0.0</td>\n",
       "      <td>United Kingdom</td>\n",
       "    </tr>\n",
       "  </tbody>\n",
       "</table>\n",
       "<p>2892 rows × 8 columns</p>\n",
       "</div>"
      ],
      "text/plain": [
       "         UserId  TransactionId     TransactionTime  ItemCode ItemDescription  \\\n",
       "322          -1        6314803 2019-01-14 11:15:00    495159             NaN   \n",
       "762          -1        6206420 2018-11-05 05:34:00    434364             NaN   \n",
       "1080         -1        6297863 2019-01-05 12:06:00   1782417             NaN   \n",
       "2204         -1        6142961 2018-09-10 09:41:00    458157             NaN   \n",
       "2210         -1        6176445 2018-10-08 10:06:00   1666056             NaN   \n",
       "...         ...            ...                 ...       ...             ...   \n",
       "1080070      -1        6074486 2018-07-18 11:26:00    462735             NaN   \n",
       "1080468      -1        6178260 2018-10-09 12:18:00    472542             NaN   \n",
       "1080485      -1        6237649 2018-11-28 07:41:00    471492             NaN   \n",
       "1080983      -1        6128529 2018-08-29 05:34:00    755265             NaN   \n",
       "1083739      -1        6167942 2018-10-01 09:37:00    337029             NaN   \n",
       "\n",
       "         NumberOfItemsPurchased  CostPerItem         Country  \n",
       "322                           9          0.0  United Kingdom  \n",
       "762                           3          0.0  United Kingdom  \n",
       "1080                         -3          0.0  United Kingdom  \n",
       "2204                       -240          0.0  United Kingdom  \n",
       "2210                        108          0.0  United Kingdom  \n",
       "...                         ...          ...             ...  \n",
       "1080070                    -480          0.0  United Kingdom  \n",
       "1080468                       3          0.0  United Kingdom  \n",
       "1080485                    -189          0.0  United Kingdom  \n",
       "1080983                       6          0.0  United Kingdom  \n",
       "1083739                     -93          0.0  United Kingdom  \n",
       "\n",
       "[2892 rows x 8 columns]"
      ]
     },
     "execution_count": 11,
     "metadata": {},
     "output_type": "execute_result"
    }
   ],
   "source": [
    "Check_NaN = pd.isnull(Main_Dataset[\"ItemDescription\"])   \n",
    "Main_Dataset[Check_NaN]  "
   ]
  },
  {
   "cell_type": "markdown",
   "metadata": {},
   "source": [
    "As per above analysis we do not have 2908 ItemDescription in dataset. Hence we will insert \"No Content Available\" in ItemDescription column"
   ]
  },
  {
   "cell_type": "code",
   "execution_count": 12,
   "metadata": {},
   "outputs": [
    {
     "data": {
      "text/plain": [
       "UserId                    0\n",
       "TransactionId             0\n",
       "TransactionTime           0\n",
       "ItemCode                  0\n",
       "ItemDescription           0\n",
       "NumberOfItemsPurchased    0\n",
       "CostPerItem               0\n",
       "Country                   0\n",
       "dtype: int64"
      ]
     },
     "execution_count": 12,
     "metadata": {},
     "output_type": "execute_result"
    }
   ],
   "source": [
    "Main_Dataset = Main_Dataset.fillna({'ItemDescription' : 'No Content Available'})\n",
    "Main_Dataset.isnull().sum()"
   ]
  },
  {
   "cell_type": "code",
   "execution_count": 13,
   "metadata": {},
   "outputs": [
    {
     "data": {
      "text/plain": [
       "UserId                     4368\n",
       "TransactionId             25789\n",
       "TransactionTime           23163\n",
       "ItemCode                   3407\n",
       "ItemDescription            4220\n",
       "NumberOfItemsPurchased      719\n",
       "CostPerItem                1611\n",
       "Country                      38\n",
       "dtype: int64"
      ]
     },
     "execution_count": 13,
     "metadata": {},
     "output_type": "execute_result"
    }
   ],
   "source": [
    "#Count Unique value in all dataset columns\n",
    "Main_Dataset.nunique()"
   ]
  },
  {
   "cell_type": "markdown",
   "metadata": {},
   "source": [
    "Now lets investigate for any invalid values present in each column"
   ]
  },
  {
   "cell_type": "markdown",
   "metadata": {},
   "source": [
    "We are done cleaning with \"TransactionTime\" column and \"ItemDescription\" column. Lets go with first column \"UserId\" to Check for negative values, Invalid numbers and if alphabets are present"
   ]
  },
  {
   "cell_type": "code",
   "execution_count": 14,
   "metadata": {},
   "outputs": [
    {
     "data": {
      "text/html": [
       "<div>\n",
       "<style scoped>\n",
       "    .dataframe tbody tr th:only-of-type {\n",
       "        vertical-align: middle;\n",
       "    }\n",
       "\n",
       "    .dataframe tbody tr th {\n",
       "        vertical-align: top;\n",
       "    }\n",
       "\n",
       "    .dataframe thead th {\n",
       "        text-align: right;\n",
       "    }\n",
       "</style>\n",
       "<table border=\"1\" class=\"dataframe\">\n",
       "  <thead>\n",
       "    <tr style=\"text-align: right;\">\n",
       "      <th></th>\n",
       "      <th>UserId</th>\n",
       "      <th>TransactionId</th>\n",
       "      <th>TransactionTime</th>\n",
       "      <th>ItemCode</th>\n",
       "      <th>ItemDescription</th>\n",
       "      <th>NumberOfItemsPurchased</th>\n",
       "      <th>CostPerItem</th>\n",
       "      <th>Country</th>\n",
       "    </tr>\n",
       "  </thead>\n",
       "  <tbody>\n",
       "    <tr>\n",
       "      <th>4</th>\n",
       "      <td>-1</td>\n",
       "      <td>6143225</td>\n",
       "      <td>2018-09-10 11:58:00</td>\n",
       "      <td>1733592</td>\n",
       "      <td>WASHROOM METAL SIGN</td>\n",
       "      <td>3</td>\n",
       "      <td>3.40</td>\n",
       "      <td>United Kingdom</td>\n",
       "    </tr>\n",
       "    <tr>\n",
       "      <th>7</th>\n",
       "      <td>-1</td>\n",
       "      <td>6143225</td>\n",
       "      <td>2018-09-10 11:58:00</td>\n",
       "      <td>447867</td>\n",
       "      <td>SKULLS WRITING SET</td>\n",
       "      <td>120</td>\n",
       "      <td>1.15</td>\n",
       "      <td>United Kingdom</td>\n",
       "    </tr>\n",
       "    <tr>\n",
       "      <th>13</th>\n",
       "      <td>-1</td>\n",
       "      <td>6058140</td>\n",
       "      <td>2018-07-02 07:33:00</td>\n",
       "      <td>435225</td>\n",
       "      <td>LUNCH BAG RED RETROSPOT</td>\n",
       "      <td>60</td>\n",
       "      <td>6.85</td>\n",
       "      <td>United Kingdom</td>\n",
       "    </tr>\n",
       "    <tr>\n",
       "      <th>17</th>\n",
       "      <td>-1</td>\n",
       "      <td>6288843</td>\n",
       "      <td>2018-12-30 12:58:00</td>\n",
       "      <td>489594</td>\n",
       "      <td>VINTAGE CHRISTMAS TABLECLOTH</td>\n",
       "      <td>3</td>\n",
       "      <td>34.45</td>\n",
       "      <td>United Kingdom</td>\n",
       "    </tr>\n",
       "    <tr>\n",
       "      <th>23</th>\n",
       "      <td>-1</td>\n",
       "      <td>6388019</td>\n",
       "      <td>2019-02-16 13:24:00</td>\n",
       "      <td>490329</td>\n",
       "      <td>ROLL WRAP VINTAGE CHRISTMAS</td>\n",
       "      <td>30</td>\n",
       "      <td>3.40</td>\n",
       "      <td>United Kingdom</td>\n",
       "    </tr>\n",
       "    <tr>\n",
       "      <th>...</th>\n",
       "      <td>...</td>\n",
       "      <td>...</td>\n",
       "      <td>...</td>\n",
       "      <td>...</td>\n",
       "      <td>...</td>\n",
       "      <td>...</td>\n",
       "      <td>...</td>\n",
       "      <td>...</td>\n",
       "    </tr>\n",
       "    <tr>\n",
       "      <th>1083798</th>\n",
       "      <td>-1</td>\n",
       "      <td>6079524</td>\n",
       "      <td>2018-07-22 11:09:00</td>\n",
       "      <td>1787772</td>\n",
       "      <td>CHARLIE + LOLA BISCUITS TINS</td>\n",
       "      <td>3</td>\n",
       "      <td>11.45</td>\n",
       "      <td>United Kingdom</td>\n",
       "    </tr>\n",
       "    <tr>\n",
       "      <th>1083801</th>\n",
       "      <td>-1</td>\n",
       "      <td>6212338</td>\n",
       "      <td>2018-11-11 06:39:00</td>\n",
       "      <td>446166</td>\n",
       "      <td>RED RETROSPOT BIG BOWL</td>\n",
       "      <td>3</td>\n",
       "      <td>5.70</td>\n",
       "      <td>United Kingdom</td>\n",
       "    </tr>\n",
       "    <tr>\n",
       "      <th>1083804</th>\n",
       "      <td>-1</td>\n",
       "      <td>6272057</td>\n",
       "      <td>2018-12-19 11:09:00</td>\n",
       "      <td>458031</td>\n",
       "      <td>HANGING HEART WITH BELL</td>\n",
       "      <td>24</td>\n",
       "      <td>1.15</td>\n",
       "      <td>United Kingdom</td>\n",
       "    </tr>\n",
       "    <tr>\n",
       "      <th>1083810</th>\n",
       "      <td>-1</td>\n",
       "      <td>6106650</td>\n",
       "      <td>2018-08-12 11:53:00</td>\n",
       "      <td>446040</td>\n",
       "      <td>BLUE POLKADOT CUP</td>\n",
       "      <td>6</td>\n",
       "      <td>2.25</td>\n",
       "      <td>United Kingdom</td>\n",
       "    </tr>\n",
       "    <tr>\n",
       "      <th>1083815</th>\n",
       "      <td>-1</td>\n",
       "      <td>6361817</td>\n",
       "      <td>2019-02-05 05:26:00</td>\n",
       "      <td>497595</td>\n",
       "      <td>DOILY THANK YOU CARD</td>\n",
       "      <td>15</td>\n",
       "      <td>1.15</td>\n",
       "      <td>United Kingdom</td>\n",
       "    </tr>\n",
       "  </tbody>\n",
       "</table>\n",
       "<p>266500 rows × 8 columns</p>\n",
       "</div>"
      ],
      "text/plain": [
       "         UserId  TransactionId     TransactionTime  ItemCode  \\\n",
       "4            -1        6143225 2018-09-10 11:58:00   1733592   \n",
       "7            -1        6143225 2018-09-10 11:58:00    447867   \n",
       "13           -1        6058140 2018-07-02 07:33:00    435225   \n",
       "17           -1        6288843 2018-12-30 12:58:00    489594   \n",
       "23           -1        6388019 2019-02-16 13:24:00    490329   \n",
       "...         ...            ...                 ...       ...   \n",
       "1083798      -1        6079524 2018-07-22 11:09:00   1787772   \n",
       "1083801      -1        6212338 2018-11-11 06:39:00    446166   \n",
       "1083804      -1        6272057 2018-12-19 11:09:00    458031   \n",
       "1083810      -1        6106650 2018-08-12 11:53:00    446040   \n",
       "1083815      -1        6361817 2019-02-05 05:26:00    497595   \n",
       "\n",
       "                      ItemDescription  NumberOfItemsPurchased  CostPerItem  \\\n",
       "4                 WASHROOM METAL SIGN                       3         3.40   \n",
       "7                 SKULLS WRITING SET                      120         1.15   \n",
       "13            LUNCH BAG RED RETROSPOT                      60         6.85   \n",
       "17       VINTAGE CHRISTMAS TABLECLOTH                       3        34.45   \n",
       "23        ROLL WRAP VINTAGE CHRISTMAS                      30         3.40   \n",
       "...                               ...                     ...          ...   \n",
       "1083798  CHARLIE + LOLA BISCUITS TINS                       3        11.45   \n",
       "1083801        RED RETROSPOT BIG BOWL                       3         5.70   \n",
       "1083804       HANGING HEART WITH BELL                      24         1.15   \n",
       "1083810             BLUE POLKADOT CUP                       6         2.25   \n",
       "1083815          DOILY THANK YOU CARD                      15         1.15   \n",
       "\n",
       "                Country  \n",
       "4        United Kingdom  \n",
       "7        United Kingdom  \n",
       "13       United Kingdom  \n",
       "17       United Kingdom  \n",
       "23       United Kingdom  \n",
       "...                 ...  \n",
       "1083798  United Kingdom  \n",
       "1083801  United Kingdom  \n",
       "1083804  United Kingdom  \n",
       "1083810  United Kingdom  \n",
       "1083815  United Kingdom  \n",
       "\n",
       "[266500 rows x 8 columns]"
      ]
     },
     "execution_count": 14,
     "metadata": {},
     "output_type": "execute_result"
    }
   ],
   "source": [
    "#To check negative values\n",
    "data = Main_Dataset[(Main_Dataset['UserId']<0)]\n",
    "data"
   ]
  },
  {
   "cell_type": "code",
   "execution_count": 15,
   "metadata": {},
   "outputs": [
    {
     "data": {
      "text/html": [
       "<div>\n",
       "<style scoped>\n",
       "    .dataframe tbody tr th:only-of-type {\n",
       "        vertical-align: middle;\n",
       "    }\n",
       "\n",
       "    .dataframe tbody tr th {\n",
       "        vertical-align: top;\n",
       "    }\n",
       "\n",
       "    .dataframe thead th {\n",
       "        text-align: right;\n",
       "    }\n",
       "</style>\n",
       "<table border=\"1\" class=\"dataframe\">\n",
       "  <thead>\n",
       "    <tr style=\"text-align: right;\">\n",
       "      <th></th>\n",
       "      <th>UserId</th>\n",
       "      <th>TransactionId</th>\n",
       "      <th>TransactionTime</th>\n",
       "      <th>ItemCode</th>\n",
       "      <th>ItemDescription</th>\n",
       "      <th>NumberOfItemsPurchased</th>\n",
       "      <th>CostPerItem</th>\n",
       "      <th>Country</th>\n",
       "    </tr>\n",
       "  </thead>\n",
       "  <tbody>\n",
       "  </tbody>\n",
       "</table>\n",
       "</div>"
      ],
      "text/plain": [
       "Empty DataFrame\n",
       "Columns: [UserId, TransactionId, TransactionTime, ItemCode, ItemDescription, NumberOfItemsPurchased, CostPerItem, Country]\n",
       "Index: []"
      ]
     },
     "execution_count": 15,
     "metadata": {},
     "output_type": "execute_result"
    }
   ],
   "source": [
    "#To check for alphabets\n",
    "a = pd.to_numeric(Main_Dataset.UserId, errors='coerce')\n",
    "idx = a.isna()\n",
    "Main_Dataset[idx]"
   ]
  },
  {
   "cell_type": "code",
   "execution_count": 16,
   "metadata": {},
   "outputs": [],
   "source": [
    "#To check invalid numbers\n",
    "#For this operation lets first define a function and reuse it for other columns too\n",
    "def is_float(x):\n",
    "    try:\n",
    "        float(x)\n",
    "    except:\n",
    "       return False\n",
    "    return True"
   ]
  },
  {
   "cell_type": "code",
   "execution_count": 17,
   "metadata": {},
   "outputs": [
    {
     "data": {
      "text/html": [
       "<div>\n",
       "<style scoped>\n",
       "    .dataframe tbody tr th:only-of-type {\n",
       "        vertical-align: middle;\n",
       "    }\n",
       "\n",
       "    .dataframe tbody tr th {\n",
       "        vertical-align: top;\n",
       "    }\n",
       "\n",
       "    .dataframe thead th {\n",
       "        text-align: right;\n",
       "    }\n",
       "</style>\n",
       "<table border=\"1\" class=\"dataframe\">\n",
       "  <thead>\n",
       "    <tr style=\"text-align: right;\">\n",
       "      <th></th>\n",
       "      <th>UserId</th>\n",
       "      <th>TransactionId</th>\n",
       "      <th>TransactionTime</th>\n",
       "      <th>ItemCode</th>\n",
       "      <th>ItemDescription</th>\n",
       "      <th>NumberOfItemsPurchased</th>\n",
       "      <th>CostPerItem</th>\n",
       "      <th>Country</th>\n",
       "    </tr>\n",
       "  </thead>\n",
       "  <tbody>\n",
       "  </tbody>\n",
       "</table>\n",
       "</div>"
      ],
      "text/plain": [
       "Empty DataFrame\n",
       "Columns: [UserId, TransactionId, TransactionTime, ItemCode, ItemDescription, NumberOfItemsPurchased, CostPerItem, Country]\n",
       "Index: []"
      ]
     },
     "execution_count": 17,
     "metadata": {},
     "output_type": "execute_result"
    }
   ],
   "source": [
    "Main_Dataset[~Main_Dataset['UserId'].apply(is_float)].head()"
   ]
  },
  {
   "cell_type": "markdown",
   "metadata": {},
   "source": [
    "You have 2,70,160 UserId rows with negative value, no alphabets and no invalid numbers present in the UserId column.  \n",
    "Here we gonna completely delete the rows containing the negative values."
   ]
  },
  {
   "cell_type": "code",
   "execution_count": 18,
   "metadata": {},
   "outputs": [],
   "source": [
    "#Drop those rows which has negative value\n",
    "indexNames = Main_Dataset[ Main_Dataset['UserId'] < 0 ].index\n",
    "Main_Dataset.drop(indexNames , inplace=True)"
   ]
  },
  {
   "cell_type": "markdown",
   "metadata": {},
   "source": [
    "Lets go with second column \"TransactionId\""
   ]
  },
  {
   "cell_type": "code",
   "execution_count": 19,
   "metadata": {},
   "outputs": [
    {
     "data": {
      "text/html": [
       "<div>\n",
       "<style scoped>\n",
       "    .dataframe tbody tr th:only-of-type {\n",
       "        vertical-align: middle;\n",
       "    }\n",
       "\n",
       "    .dataframe tbody tr th {\n",
       "        vertical-align: top;\n",
       "    }\n",
       "\n",
       "    .dataframe thead th {\n",
       "        text-align: right;\n",
       "    }\n",
       "</style>\n",
       "<table border=\"1\" class=\"dataframe\">\n",
       "  <thead>\n",
       "    <tr style=\"text-align: right;\">\n",
       "      <th></th>\n",
       "      <th>UserId</th>\n",
       "      <th>TransactionId</th>\n",
       "      <th>TransactionTime</th>\n",
       "      <th>ItemCode</th>\n",
       "      <th>ItemDescription</th>\n",
       "      <th>NumberOfItemsPurchased</th>\n",
       "      <th>CostPerItem</th>\n",
       "      <th>Country</th>\n",
       "    </tr>\n",
       "  </thead>\n",
       "  <tbody>\n",
       "  </tbody>\n",
       "</table>\n",
       "</div>"
      ],
      "text/plain": [
       "Empty DataFrame\n",
       "Columns: [UserId, TransactionId, TransactionTime, ItemCode, ItemDescription, NumberOfItemsPurchased, CostPerItem, Country]\n",
       "Index: []"
      ]
     },
     "execution_count": 19,
     "metadata": {},
     "output_type": "execute_result"
    }
   ],
   "source": [
    "#To check negative values\n",
    "data = Main_Dataset[(Main_Dataset['TransactionId']<0)]\n",
    "data\n",
    "#To check for alphabets\n",
    "a = pd.to_numeric(Main_Dataset.TransactionId, errors='coerce')\n",
    "idx = a.isna()\n",
    "Main_Dataset[idx]"
   ]
  },
  {
   "cell_type": "code",
   "execution_count": 20,
   "metadata": {},
   "outputs": [
    {
     "data": {
      "text/html": [
       "<div>\n",
       "<style scoped>\n",
       "    .dataframe tbody tr th:only-of-type {\n",
       "        vertical-align: middle;\n",
       "    }\n",
       "\n",
       "    .dataframe tbody tr th {\n",
       "        vertical-align: top;\n",
       "    }\n",
       "\n",
       "    .dataframe thead th {\n",
       "        text-align: right;\n",
       "    }\n",
       "</style>\n",
       "<table border=\"1\" class=\"dataframe\">\n",
       "  <thead>\n",
       "    <tr style=\"text-align: right;\">\n",
       "      <th></th>\n",
       "      <th>UserId</th>\n",
       "      <th>TransactionId</th>\n",
       "      <th>TransactionTime</th>\n",
       "      <th>ItemCode</th>\n",
       "      <th>ItemDescription</th>\n",
       "      <th>NumberOfItemsPurchased</th>\n",
       "      <th>CostPerItem</th>\n",
       "      <th>Country</th>\n",
       "    </tr>\n",
       "  </thead>\n",
       "  <tbody>\n",
       "  </tbody>\n",
       "</table>\n",
       "</div>"
      ],
      "text/plain": [
       "Empty DataFrame\n",
       "Columns: [UserId, TransactionId, TransactionTime, ItemCode, ItemDescription, NumberOfItemsPurchased, CostPerItem, Country]\n",
       "Index: []"
      ]
     },
     "execution_count": 20,
     "metadata": {},
     "output_type": "execute_result"
    }
   ],
   "source": [
    "#To check invalid numbers\n",
    "Main_Dataset[~Main_Dataset['TransactionId'].apply(is_float)].head()"
   ]
  },
  {
   "cell_type": "markdown",
   "metadata": {},
   "source": [
    "You dont have negative value, no alphabets and no any invalid values present in the \"TransactionId\" column. Hence its clean."
   ]
  },
  {
   "cell_type": "markdown",
   "metadata": {},
   "source": [
    "Lets go with fourth column \"ItemCode\""
   ]
  },
  {
   "cell_type": "code",
   "execution_count": 21,
   "metadata": {},
   "outputs": [
    {
     "data": {
      "text/html": [
       "<div>\n",
       "<style scoped>\n",
       "    .dataframe tbody tr th:only-of-type {\n",
       "        vertical-align: middle;\n",
       "    }\n",
       "\n",
       "    .dataframe tbody tr th {\n",
       "        vertical-align: top;\n",
       "    }\n",
       "\n",
       "    .dataframe thead th {\n",
       "        text-align: right;\n",
       "    }\n",
       "</style>\n",
       "<table border=\"1\" class=\"dataframe\">\n",
       "  <thead>\n",
       "    <tr style=\"text-align: right;\">\n",
       "      <th></th>\n",
       "      <th>UserId</th>\n",
       "      <th>TransactionId</th>\n",
       "      <th>TransactionTime</th>\n",
       "      <th>ItemCode</th>\n",
       "      <th>ItemDescription</th>\n",
       "      <th>NumberOfItemsPurchased</th>\n",
       "      <th>CostPerItem</th>\n",
       "      <th>Country</th>\n",
       "    </tr>\n",
       "  </thead>\n",
       "  <tbody>\n",
       "    <tr>\n",
       "      <th>154</th>\n",
       "      <td>266301</td>\n",
       "      <td>5970085</td>\n",
       "      <td>2018-04-14 11:36:00</td>\n",
       "      <td>-1</td>\n",
       "      <td>POSTAGE</td>\n",
       "      <td>9</td>\n",
       "      <td>24.84</td>\n",
       "      <td>France</td>\n",
       "    </tr>\n",
       "    <tr>\n",
       "      <th>251</th>\n",
       "      <td>266028</td>\n",
       "      <td>5969843</td>\n",
       "      <td>2018-04-14 09:27:00</td>\n",
       "      <td>-1</td>\n",
       "      <td>POSTAGE</td>\n",
       "      <td>21</td>\n",
       "      <td>24.84</td>\n",
       "      <td>Germany</td>\n",
       "    </tr>\n",
       "    <tr>\n",
       "      <th>993</th>\n",
       "      <td>287574</td>\n",
       "      <td>6190756</td>\n",
       "      <td>2018-10-21 10:27:00</td>\n",
       "      <td>-1</td>\n",
       "      <td>Discount</td>\n",
       "      <td>-3</td>\n",
       "      <td>88.32</td>\n",
       "      <td>United Kingdom</td>\n",
       "    </tr>\n",
       "    <tr>\n",
       "      <th>1261</th>\n",
       "      <td>264243</td>\n",
       "      <td>6153851</td>\n",
       "      <td>2018-09-19 08:22:00</td>\n",
       "      <td>-1</td>\n",
       "      <td>POSTAGE</td>\n",
       "      <td>6</td>\n",
       "      <td>24.84</td>\n",
       "      <td>France</td>\n",
       "    </tr>\n",
       "    <tr>\n",
       "      <th>1773</th>\n",
       "      <td>268632</td>\n",
       "      <td>6026867</td>\n",
       "      <td>2018-06-09 07:36:00</td>\n",
       "      <td>-1</td>\n",
       "      <td>POSTAGE</td>\n",
       "      <td>6</td>\n",
       "      <td>38.64</td>\n",
       "      <td>Portugal</td>\n",
       "    </tr>\n",
       "    <tr>\n",
       "      <th>...</th>\n",
       "      <td>...</td>\n",
       "      <td>...</td>\n",
       "      <td>...</td>\n",
       "      <td>...</td>\n",
       "      <td>...</td>\n",
       "      <td>...</td>\n",
       "      <td>...</td>\n",
       "      <td>...</td>\n",
       "    </tr>\n",
       "    <tr>\n",
       "      <th>1082767</th>\n",
       "      <td>369663</td>\n",
       "      <td>6164785</td>\n",
       "      <td>2018-09-29 12:01:00</td>\n",
       "      <td>-1</td>\n",
       "      <td>Manual</td>\n",
       "      <td>-3</td>\n",
       "      <td>406.99</td>\n",
       "      <td>United Kingdom</td>\n",
       "    </tr>\n",
       "    <tr>\n",
       "      <th>1082835</th>\n",
       "      <td>305067</td>\n",
       "      <td>6349497</td>\n",
       "      <td>2019-01-30 08:06:00</td>\n",
       "      <td>-1</td>\n",
       "      <td>Discount</td>\n",
       "      <td>-3</td>\n",
       "      <td>23.13</td>\n",
       "      <td>United Kingdom</td>\n",
       "    </tr>\n",
       "    <tr>\n",
       "      <th>1083108</th>\n",
       "      <td>292299</td>\n",
       "      <td>6277326</td>\n",
       "      <td>2018-12-23 10:24:00</td>\n",
       "      <td>-1</td>\n",
       "      <td>POSTAGE</td>\n",
       "      <td>3</td>\n",
       "      <td>24.84</td>\n",
       "      <td>Denmark</td>\n",
       "    </tr>\n",
       "    <tr>\n",
       "      <th>1083581</th>\n",
       "      <td>260715</td>\n",
       "      <td>6035271</td>\n",
       "      <td>2018-06-13 10:28:00</td>\n",
       "      <td>-1</td>\n",
       "      <td>POSTAGE</td>\n",
       "      <td>3</td>\n",
       "      <td>483.00</td>\n",
       "      <td>Australia</td>\n",
       "    </tr>\n",
       "    <tr>\n",
       "      <th>1083780</th>\n",
       "      <td>259392</td>\n",
       "      <td>5998652</td>\n",
       "      <td>2018-05-13 11:52:00</td>\n",
       "      <td>-1</td>\n",
       "      <td>Manual</td>\n",
       "      <td>3</td>\n",
       "      <td>386.47</td>\n",
       "      <td>Norway</td>\n",
       "    </tr>\n",
       "  </tbody>\n",
       "</table>\n",
       "<p>3564 rows × 8 columns</p>\n",
       "</div>"
      ],
      "text/plain": [
       "         UserId  TransactionId     TransactionTime  ItemCode ItemDescription  \\\n",
       "154      266301        5970085 2018-04-14 11:36:00        -1         POSTAGE   \n",
       "251      266028        5969843 2018-04-14 09:27:00        -1         POSTAGE   \n",
       "993      287574        6190756 2018-10-21 10:27:00        -1        Discount   \n",
       "1261     264243        6153851 2018-09-19 08:22:00        -1         POSTAGE   \n",
       "1773     268632        6026867 2018-06-09 07:36:00        -1         POSTAGE   \n",
       "...         ...            ...                 ...       ...             ...   \n",
       "1082767  369663        6164785 2018-09-29 12:01:00        -1          Manual   \n",
       "1082835  305067        6349497 2019-01-30 08:06:00        -1        Discount   \n",
       "1083108  292299        6277326 2018-12-23 10:24:00        -1         POSTAGE   \n",
       "1083581  260715        6035271 2018-06-13 10:28:00        -1         POSTAGE   \n",
       "1083780  259392        5998652 2018-05-13 11:52:00        -1          Manual   \n",
       "\n",
       "         NumberOfItemsPurchased  CostPerItem         Country  \n",
       "154                           9        24.84          France  \n",
       "251                          21        24.84         Germany  \n",
       "993                          -3        88.32  United Kingdom  \n",
       "1261                          6        24.84          France  \n",
       "1773                          6        38.64        Portugal  \n",
       "...                         ...          ...             ...  \n",
       "1082767                      -3       406.99  United Kingdom  \n",
       "1082835                      -3        23.13  United Kingdom  \n",
       "1083108                       3        24.84         Denmark  \n",
       "1083581                       3       483.00       Australia  \n",
       "1083780                       3       386.47          Norway  \n",
       "\n",
       "[3564 rows x 8 columns]"
      ]
     },
     "execution_count": 21,
     "metadata": {},
     "output_type": "execute_result"
    }
   ],
   "source": [
    "#To check negative values\n",
    "data = Main_Dataset[(Main_Dataset['ItemCode']<0)]\n",
    "data"
   ]
  },
  {
   "cell_type": "code",
   "execution_count": 22,
   "metadata": {},
   "outputs": [
    {
     "data": {
      "text/html": [
       "<div>\n",
       "<style scoped>\n",
       "    .dataframe tbody tr th:only-of-type {\n",
       "        vertical-align: middle;\n",
       "    }\n",
       "\n",
       "    .dataframe tbody tr th {\n",
       "        vertical-align: top;\n",
       "    }\n",
       "\n",
       "    .dataframe thead th {\n",
       "        text-align: right;\n",
       "    }\n",
       "</style>\n",
       "<table border=\"1\" class=\"dataframe\">\n",
       "  <thead>\n",
       "    <tr style=\"text-align: right;\">\n",
       "      <th></th>\n",
       "      <th>UserId</th>\n",
       "      <th>TransactionId</th>\n",
       "      <th>TransactionTime</th>\n",
       "      <th>ItemCode</th>\n",
       "      <th>ItemDescription</th>\n",
       "      <th>NumberOfItemsPurchased</th>\n",
       "      <th>CostPerItem</th>\n",
       "      <th>Country</th>\n",
       "    </tr>\n",
       "  </thead>\n",
       "  <tbody>\n",
       "  </tbody>\n",
       "</table>\n",
       "</div>"
      ],
      "text/plain": [
       "Empty DataFrame\n",
       "Columns: [UserId, TransactionId, TransactionTime, ItemCode, ItemDescription, NumberOfItemsPurchased, CostPerItem, Country]\n",
       "Index: []"
      ]
     },
     "execution_count": 22,
     "metadata": {},
     "output_type": "execute_result"
    }
   ],
   "source": [
    "#To check for alphabets\n",
    "a = pd.to_numeric(Main_Dataset.ItemCode, errors='coerce')\n",
    "idx = a.isna()\n",
    "Main_Dataset[idx]"
   ]
  },
  {
   "cell_type": "code",
   "execution_count": 23,
   "metadata": {},
   "outputs": [
    {
     "data": {
      "text/html": [
       "<div>\n",
       "<style scoped>\n",
       "    .dataframe tbody tr th:only-of-type {\n",
       "        vertical-align: middle;\n",
       "    }\n",
       "\n",
       "    .dataframe tbody tr th {\n",
       "        vertical-align: top;\n",
       "    }\n",
       "\n",
       "    .dataframe thead th {\n",
       "        text-align: right;\n",
       "    }\n",
       "</style>\n",
       "<table border=\"1\" class=\"dataframe\">\n",
       "  <thead>\n",
       "    <tr style=\"text-align: right;\">\n",
       "      <th></th>\n",
       "      <th>UserId</th>\n",
       "      <th>TransactionId</th>\n",
       "      <th>TransactionTime</th>\n",
       "      <th>ItemCode</th>\n",
       "      <th>ItemDescription</th>\n",
       "      <th>NumberOfItemsPurchased</th>\n",
       "      <th>CostPerItem</th>\n",
       "      <th>Country</th>\n",
       "    </tr>\n",
       "  </thead>\n",
       "  <tbody>\n",
       "  </tbody>\n",
       "</table>\n",
       "</div>"
      ],
      "text/plain": [
       "Empty DataFrame\n",
       "Columns: [UserId, TransactionId, TransactionTime, ItemCode, ItemDescription, NumberOfItemsPurchased, CostPerItem, Country]\n",
       "Index: []"
      ]
     },
     "execution_count": 23,
     "metadata": {},
     "output_type": "execute_result"
    }
   ],
   "source": [
    "#To check invalid numbers\n",
    "Main_Dataset[~Main_Dataset['ItemCode'].apply(is_float)].head()"
   ]
  },
  {
   "cell_type": "markdown",
   "metadata": {},
   "source": [
    "You have 3,572 ItemCode rows with negative values and no alphabets neither invalid numbers present in it.  \n",
    "Here we fill the forward ItemCode. "
   ]
  },
  {
   "cell_type": "code",
   "execution_count": 24,
   "metadata": {},
   "outputs": [],
   "source": [
    "Main_Dataset['ItemCode'] = Main_Dataset['ItemCode'].replace(to_replace= -1,value=None,method='ffill')"
   ]
  },
  {
   "cell_type": "markdown",
   "metadata": {},
   "source": [
    "Now will look into the \"NumberOfItemsPurchased\" column"
   ]
  },
  {
   "cell_type": "code",
   "execution_count": 25,
   "metadata": {},
   "outputs": [
    {
     "data": {
      "text/html": [
       "<div>\n",
       "<style scoped>\n",
       "    .dataframe tbody tr th:only-of-type {\n",
       "        vertical-align: middle;\n",
       "    }\n",
       "\n",
       "    .dataframe tbody tr th {\n",
       "        vertical-align: top;\n",
       "    }\n",
       "\n",
       "    .dataframe thead th {\n",
       "        text-align: right;\n",
       "    }\n",
       "</style>\n",
       "<table border=\"1\" class=\"dataframe\">\n",
       "  <thead>\n",
       "    <tr style=\"text-align: right;\">\n",
       "      <th></th>\n",
       "      <th>UserId</th>\n",
       "      <th>TransactionId</th>\n",
       "      <th>TransactionTime</th>\n",
       "      <th>ItemCode</th>\n",
       "      <th>ItemDescription</th>\n",
       "      <th>NumberOfItemsPurchased</th>\n",
       "      <th>CostPerItem</th>\n",
       "      <th>Country</th>\n",
       "    </tr>\n",
       "  </thead>\n",
       "  <tbody>\n",
       "    <tr>\n",
       "      <th>69</th>\n",
       "      <td>300909</td>\n",
       "      <td>6015757</td>\n",
       "      <td>2018-05-29 14:14:00</td>\n",
       "      <td>466452</td>\n",
       "      <td>FOUR HOOK  WHITE LOVEBIRDS</td>\n",
       "      <td>-3</td>\n",
       "      <td>2.90</td>\n",
       "      <td>United Kingdom</td>\n",
       "    </tr>\n",
       "    <tr>\n",
       "      <th>135</th>\n",
       "      <td>319683</td>\n",
       "      <td>6036228</td>\n",
       "      <td>2018-06-16 08:28:00</td>\n",
       "      <td>470883</td>\n",
       "      <td>REGENCY CAKESTAND 3 TIER</td>\n",
       "      <td>-24</td>\n",
       "      <td>17.60</td>\n",
       "      <td>United Kingdom</td>\n",
       "    </tr>\n",
       "    <tr>\n",
       "      <th>329</th>\n",
       "      <td>321531</td>\n",
       "      <td>5925150</td>\n",
       "      <td>2018-02-24 11:05:00</td>\n",
       "      <td>446418</td>\n",
       "      <td>VICTORIAN SEWING BOX LARGE</td>\n",
       "      <td>-3</td>\n",
       "      <td>15.12</td>\n",
       "      <td>United Kingdom</td>\n",
       "    </tr>\n",
       "    <tr>\n",
       "      <th>330</th>\n",
       "      <td>260715</td>\n",
       "      <td>6165940</td>\n",
       "      <td>2018-09-30 08:26:00</td>\n",
       "      <td>488061</td>\n",
       "      <td>TREASURE TIN GYMKHANA DESIGN</td>\n",
       "      <td>-3</td>\n",
       "      <td>2.88</td>\n",
       "      <td>Australia</td>\n",
       "    </tr>\n",
       "    <tr>\n",
       "      <th>353</th>\n",
       "      <td>274869</td>\n",
       "      <td>6004240</td>\n",
       "      <td>2018-05-19 09:35:00</td>\n",
       "      <td>470883</td>\n",
       "      <td>REGENCY CAKESTAND 3 TIER</td>\n",
       "      <td>-15</td>\n",
       "      <td>15.12</td>\n",
       "      <td>United Kingdom</td>\n",
       "    </tr>\n",
       "    <tr>\n",
       "      <th>...</th>\n",
       "      <td>...</td>\n",
       "      <td>...</td>\n",
       "      <td>...</td>\n",
       "      <td>...</td>\n",
       "      <td>...</td>\n",
       "      <td>...</td>\n",
       "      <td>...</td>\n",
       "      <td>...</td>\n",
       "    </tr>\n",
       "    <tr>\n",
       "      <th>1083558</th>\n",
       "      <td>302610</td>\n",
       "      <td>6169405</td>\n",
       "      <td>2018-10-02 09:00:00</td>\n",
       "      <td>475986</td>\n",
       "      <td>RECIPE BOX PANTRY YELLOW DESIGN</td>\n",
       "      <td>-3</td>\n",
       "      <td>4.08</td>\n",
       "      <td>United Kingdom</td>\n",
       "    </tr>\n",
       "    <tr>\n",
       "      <th>1083641</th>\n",
       "      <td>260715</td>\n",
       "      <td>6165940</td>\n",
       "      <td>2018-09-30 08:26:00</td>\n",
       "      <td>461454</td>\n",
       "      <td>SET OF 36 PAISLEY FLOWER DOILIES</td>\n",
       "      <td>-3</td>\n",
       "      <td>2.01</td>\n",
       "      <td>Australia</td>\n",
       "    </tr>\n",
       "    <tr>\n",
       "      <th>1083663</th>\n",
       "      <td>331485</td>\n",
       "      <td>6108982</td>\n",
       "      <td>2018-08-14 10:15:00</td>\n",
       "      <td>486255</td>\n",
       "      <td>KNICKERBOCKERGLORY MAGNET ASSORTED</td>\n",
       "      <td>-3</td>\n",
       "      <td>1.15</td>\n",
       "      <td>United Kingdom</td>\n",
       "    </tr>\n",
       "    <tr>\n",
       "      <th>1083719</th>\n",
       "      <td>315693</td>\n",
       "      <td>6146283</td>\n",
       "      <td>2018-09-14 07:54:00</td>\n",
       "      <td>448644</td>\n",
       "      <td>PEACE SMALL WOOD LETTERS</td>\n",
       "      <td>-3</td>\n",
       "      <td>9.32</td>\n",
       "      <td>United Kingdom</td>\n",
       "    </tr>\n",
       "    <tr>\n",
       "      <th>1083743</th>\n",
       "      <td>309960</td>\n",
       "      <td>5988543</td>\n",
       "      <td>2018-05-02 10:36:00</td>\n",
       "      <td>469644</td>\n",
       "      <td>GLASS JAR DIGESTIVE BISCUITS</td>\n",
       "      <td>-18</td>\n",
       "      <td>4.08</td>\n",
       "      <td>United Kingdom</td>\n",
       "    </tr>\n",
       "  </tbody>\n",
       "</table>\n",
       "<p>17764 rows × 8 columns</p>\n",
       "</div>"
      ],
      "text/plain": [
       "         UserId  TransactionId     TransactionTime  ItemCode  \\\n",
       "69       300909        6015757 2018-05-29 14:14:00    466452   \n",
       "135      319683        6036228 2018-06-16 08:28:00    470883   \n",
       "329      321531        5925150 2018-02-24 11:05:00    446418   \n",
       "330      260715        6165940 2018-09-30 08:26:00    488061   \n",
       "353      274869        6004240 2018-05-19 09:35:00    470883   \n",
       "...         ...            ...                 ...       ...   \n",
       "1083558  302610        6169405 2018-10-02 09:00:00    475986   \n",
       "1083641  260715        6165940 2018-09-30 08:26:00    461454   \n",
       "1083663  331485        6108982 2018-08-14 10:15:00    486255   \n",
       "1083719  315693        6146283 2018-09-14 07:54:00    448644   \n",
       "1083743  309960        5988543 2018-05-02 10:36:00    469644   \n",
       "\n",
       "                             ItemDescription  NumberOfItemsPurchased  \\\n",
       "69                FOUR HOOK  WHITE LOVEBIRDS                      -3   \n",
       "135                 REGENCY CAKESTAND 3 TIER                     -24   \n",
       "329               VICTORIAN SEWING BOX LARGE                      -3   \n",
       "330             TREASURE TIN GYMKHANA DESIGN                      -3   \n",
       "353                 REGENCY CAKESTAND 3 TIER                     -15   \n",
       "...                                      ...                     ...   \n",
       "1083558      RECIPE BOX PANTRY YELLOW DESIGN                      -3   \n",
       "1083641     SET OF 36 PAISLEY FLOWER DOILIES                      -3   \n",
       "1083663  KNICKERBOCKERGLORY MAGNET ASSORTED                       -3   \n",
       "1083719             PEACE SMALL WOOD LETTERS                      -3   \n",
       "1083743         GLASS JAR DIGESTIVE BISCUITS                     -18   \n",
       "\n",
       "         CostPerItem         Country  \n",
       "69              2.90  United Kingdom  \n",
       "135            17.60  United Kingdom  \n",
       "329            15.12  United Kingdom  \n",
       "330             2.88       Australia  \n",
       "353            15.12  United Kingdom  \n",
       "...              ...             ...  \n",
       "1083558         4.08  United Kingdom  \n",
       "1083641         2.01       Australia  \n",
       "1083663         1.15  United Kingdom  \n",
       "1083719         9.32  United Kingdom  \n",
       "1083743         4.08  United Kingdom  \n",
       "\n",
       "[17764 rows x 8 columns]"
      ]
     },
     "execution_count": 25,
     "metadata": {},
     "output_type": "execute_result"
    }
   ],
   "source": [
    "#To check negative values\n",
    "data = Main_Dataset[(Main_Dataset['NumberOfItemsPurchased']<0)]\n",
    "data"
   ]
  },
  {
   "cell_type": "code",
   "execution_count": 26,
   "metadata": {},
   "outputs": [
    {
     "data": {
      "text/html": [
       "<div>\n",
       "<style scoped>\n",
       "    .dataframe tbody tr th:only-of-type {\n",
       "        vertical-align: middle;\n",
       "    }\n",
       "\n",
       "    .dataframe tbody tr th {\n",
       "        vertical-align: top;\n",
       "    }\n",
       "\n",
       "    .dataframe thead th {\n",
       "        text-align: right;\n",
       "    }\n",
       "</style>\n",
       "<table border=\"1\" class=\"dataframe\">\n",
       "  <thead>\n",
       "    <tr style=\"text-align: right;\">\n",
       "      <th></th>\n",
       "      <th>UserId</th>\n",
       "      <th>TransactionId</th>\n",
       "      <th>TransactionTime</th>\n",
       "      <th>ItemCode</th>\n",
       "      <th>ItemDescription</th>\n",
       "      <th>NumberOfItemsPurchased</th>\n",
       "      <th>CostPerItem</th>\n",
       "      <th>Country</th>\n",
       "    </tr>\n",
       "  </thead>\n",
       "  <tbody>\n",
       "  </tbody>\n",
       "</table>\n",
       "</div>"
      ],
      "text/plain": [
       "Empty DataFrame\n",
       "Columns: [UserId, TransactionId, TransactionTime, ItemCode, ItemDescription, NumberOfItemsPurchased, CostPerItem, Country]\n",
       "Index: []"
      ]
     },
     "execution_count": 26,
     "metadata": {},
     "output_type": "execute_result"
    }
   ],
   "source": [
    "#To check for alphabets\n",
    "a = pd.to_numeric(Main_Dataset.NumberOfItemsPurchased, errors='coerce')\n",
    "idx = a.isna()\n",
    "Main_Dataset[idx]"
   ]
  },
  {
   "cell_type": "code",
   "execution_count": 27,
   "metadata": {},
   "outputs": [
    {
     "data": {
      "text/html": [
       "<div>\n",
       "<style scoped>\n",
       "    .dataframe tbody tr th:only-of-type {\n",
       "        vertical-align: middle;\n",
       "    }\n",
       "\n",
       "    .dataframe tbody tr th {\n",
       "        vertical-align: top;\n",
       "    }\n",
       "\n",
       "    .dataframe thead th {\n",
       "        text-align: right;\n",
       "    }\n",
       "</style>\n",
       "<table border=\"1\" class=\"dataframe\">\n",
       "  <thead>\n",
       "    <tr style=\"text-align: right;\">\n",
       "      <th></th>\n",
       "      <th>UserId</th>\n",
       "      <th>TransactionId</th>\n",
       "      <th>TransactionTime</th>\n",
       "      <th>ItemCode</th>\n",
       "      <th>ItemDescription</th>\n",
       "      <th>NumberOfItemsPurchased</th>\n",
       "      <th>CostPerItem</th>\n",
       "      <th>Country</th>\n",
       "    </tr>\n",
       "  </thead>\n",
       "  <tbody>\n",
       "  </tbody>\n",
       "</table>\n",
       "</div>"
      ],
      "text/plain": [
       "Empty DataFrame\n",
       "Columns: [UserId, TransactionId, TransactionTime, ItemCode, ItemDescription, NumberOfItemsPurchased, CostPerItem, Country]\n",
       "Index: []"
      ]
     },
     "execution_count": 27,
     "metadata": {},
     "output_type": "execute_result"
    }
   ],
   "source": [
    "#To check invalid numbers\n",
    "Main_Dataset[~Main_Dataset['NumberOfItemsPurchased'].apply(is_float)].head()"
   ]
  },
  {
   "cell_type": "markdown",
   "metadata": {},
   "source": [
    "You have 17,810 NumberOfItemsPurchased rows with negative values, no alphabets and invalid numbers present in it. Hence we are going to change the negative values to positive values by absolute function."
   ]
  },
  {
   "cell_type": "code",
   "execution_count": 28,
   "metadata": {},
   "outputs": [],
   "source": [
    "Main_Dataset['NumberOfItemsPurchased'] = Main_Dataset['NumberOfItemsPurchased'].abs()"
   ]
  },
  {
   "cell_type": "markdown",
   "metadata": {},
   "source": [
    "Now will look into the \"CostPerItem\" column"
   ]
  },
  {
   "cell_type": "code",
   "execution_count": 29,
   "metadata": {},
   "outputs": [
    {
     "data": {
      "text/html": [
       "<div>\n",
       "<style scoped>\n",
       "    .dataframe tbody tr th:only-of-type {\n",
       "        vertical-align: middle;\n",
       "    }\n",
       "\n",
       "    .dataframe tbody tr th {\n",
       "        vertical-align: top;\n",
       "    }\n",
       "\n",
       "    .dataframe thead th {\n",
       "        text-align: right;\n",
       "    }\n",
       "</style>\n",
       "<table border=\"1\" class=\"dataframe\">\n",
       "  <thead>\n",
       "    <tr style=\"text-align: right;\">\n",
       "      <th></th>\n",
       "      <th>UserId</th>\n",
       "      <th>TransactionId</th>\n",
       "      <th>TransactionTime</th>\n",
       "      <th>ItemCode</th>\n",
       "      <th>ItemDescription</th>\n",
       "      <th>NumberOfItemsPurchased</th>\n",
       "      <th>CostPerItem</th>\n",
       "      <th>Country</th>\n",
       "    </tr>\n",
       "  </thead>\n",
       "  <tbody>\n",
       "  </tbody>\n",
       "</table>\n",
       "</div>"
      ],
      "text/plain": [
       "Empty DataFrame\n",
       "Columns: [UserId, TransactionId, TransactionTime, ItemCode, ItemDescription, NumberOfItemsPurchased, CostPerItem, Country]\n",
       "Index: []"
      ]
     },
     "execution_count": 29,
     "metadata": {},
     "output_type": "execute_result"
    }
   ],
   "source": [
    "#To check negative values\n",
    "data = Main_Dataset[(Main_Dataset['CostPerItem']<0)]\n",
    "data"
   ]
  },
  {
   "cell_type": "code",
   "execution_count": 30,
   "metadata": {},
   "outputs": [
    {
     "data": {
      "text/html": [
       "<div>\n",
       "<style scoped>\n",
       "    .dataframe tbody tr th:only-of-type {\n",
       "        vertical-align: middle;\n",
       "    }\n",
       "\n",
       "    .dataframe tbody tr th {\n",
       "        vertical-align: top;\n",
       "    }\n",
       "\n",
       "    .dataframe thead th {\n",
       "        text-align: right;\n",
       "    }\n",
       "</style>\n",
       "<table border=\"1\" class=\"dataframe\">\n",
       "  <thead>\n",
       "    <tr style=\"text-align: right;\">\n",
       "      <th></th>\n",
       "      <th>UserId</th>\n",
       "      <th>TransactionId</th>\n",
       "      <th>TransactionTime</th>\n",
       "      <th>ItemCode</th>\n",
       "      <th>ItemDescription</th>\n",
       "      <th>NumberOfItemsPurchased</th>\n",
       "      <th>CostPerItem</th>\n",
       "      <th>Country</th>\n",
       "    </tr>\n",
       "  </thead>\n",
       "  <tbody>\n",
       "  </tbody>\n",
       "</table>\n",
       "</div>"
      ],
      "text/plain": [
       "Empty DataFrame\n",
       "Columns: [UserId, TransactionId, TransactionTime, ItemCode, ItemDescription, NumberOfItemsPurchased, CostPerItem, Country]\n",
       "Index: []"
      ]
     },
     "execution_count": 30,
     "metadata": {},
     "output_type": "execute_result"
    }
   ],
   "source": [
    "#To check for alphabets\n",
    "a = pd.to_numeric(Main_Dataset.CostPerItem, errors='coerce')\n",
    "idx = a.isna()\n",
    "Main_Dataset[idx]"
   ]
  },
  {
   "cell_type": "code",
   "execution_count": 31,
   "metadata": {},
   "outputs": [
    {
     "data": {
      "text/html": [
       "<div>\n",
       "<style scoped>\n",
       "    .dataframe tbody tr th:only-of-type {\n",
       "        vertical-align: middle;\n",
       "    }\n",
       "\n",
       "    .dataframe tbody tr th {\n",
       "        vertical-align: top;\n",
       "    }\n",
       "\n",
       "    .dataframe thead th {\n",
       "        text-align: right;\n",
       "    }\n",
       "</style>\n",
       "<table border=\"1\" class=\"dataframe\">\n",
       "  <thead>\n",
       "    <tr style=\"text-align: right;\">\n",
       "      <th></th>\n",
       "      <th>UserId</th>\n",
       "      <th>TransactionId</th>\n",
       "      <th>TransactionTime</th>\n",
       "      <th>ItemCode</th>\n",
       "      <th>ItemDescription</th>\n",
       "      <th>NumberOfItemsPurchased</th>\n",
       "      <th>CostPerItem</th>\n",
       "      <th>Country</th>\n",
       "    </tr>\n",
       "  </thead>\n",
       "  <tbody>\n",
       "  </tbody>\n",
       "</table>\n",
       "</div>"
      ],
      "text/plain": [
       "Empty DataFrame\n",
       "Columns: [UserId, TransactionId, TransactionTime, ItemCode, ItemDescription, NumberOfItemsPurchased, CostPerItem, Country]\n",
       "Index: []"
      ]
     },
     "execution_count": 31,
     "metadata": {},
     "output_type": "execute_result"
    }
   ],
   "source": [
    "#To check invalid numbers\n",
    "Main_Dataset[~Main_Dataset['CostPerItem'].apply(is_float)].head()"
   ]
  },
  {
   "cell_type": "markdown",
   "metadata": {},
   "source": [
    "You do not have negative values, no alphabets and invalid numbers present in it. Where as cost per item is clean."
   ]
  },
  {
   "cell_type": "code",
   "execution_count": 32,
   "metadata": {},
   "outputs": [
    {
     "data": {
      "text/plain": [
       "array(['United Kingdom', 'France', 'Austria', 'Australia', 'EIRE',\n",
       "       'Portugal', 'Germany', 'Sweden', 'Cyprus', 'Spain', 'Japan',\n",
       "       'Belgium', 'Singapore', 'Denmark', 'Netherlands', 'Norway',\n",
       "       'Canada', 'Iceland', 'Switzerland', 'Poland', 'Finland', 'Italy',\n",
       "       'Malta', 'Israel', 'Channel Islands', 'Unspecified', 'USA',\n",
       "       'Czech Republic', 'Lebanon', 'Brazil', 'European Community',\n",
       "       'Greece', 'RSA', 'Bahrain', 'Lithuania', 'United Arab Emirates',\n",
       "       'Saudi Arabia'], dtype=object)"
      ]
     },
     "execution_count": 32,
     "metadata": {},
     "output_type": "execute_result"
    }
   ],
   "source": [
    "Main_Dataset['Country'].unique()"
   ]
  },
  {
   "cell_type": "markdown",
   "metadata": {},
   "source": [
    "You dont have even invalid rows in Country column too."
   ]
  },
  {
   "cell_type": "code",
   "execution_count": 33,
   "metadata": {},
   "outputs": [
    {
     "data": {
      "text/html": [
       "<div>\n",
       "<style scoped>\n",
       "    .dataframe tbody tr th:only-of-type {\n",
       "        vertical-align: middle;\n",
       "    }\n",
       "\n",
       "    .dataframe tbody tr th {\n",
       "        vertical-align: top;\n",
       "    }\n",
       "\n",
       "    .dataframe thead th {\n",
       "        text-align: right;\n",
       "    }\n",
       "</style>\n",
       "<table border=\"1\" class=\"dataframe\">\n",
       "  <thead>\n",
       "    <tr style=\"text-align: right;\">\n",
       "      <th></th>\n",
       "      <th>UserId</th>\n",
       "      <th>TransactionId</th>\n",
       "      <th>TransactionTime</th>\n",
       "      <th>ItemCode</th>\n",
       "      <th>ItemDescription</th>\n",
       "      <th>NumberOfItemsPurchased</th>\n",
       "      <th>CostPerItem</th>\n",
       "      <th>Country</th>\n",
       "    </tr>\n",
       "  </thead>\n",
       "  <tbody>\n",
       "    <tr>\n",
       "      <th>0</th>\n",
       "      <td>278166</td>\n",
       "      <td>6355745</td>\n",
       "      <td>2019-02-02 12:50:00</td>\n",
       "      <td>465549</td>\n",
       "      <td>FAMILY ALBUM WHITE PICTURE FRAME</td>\n",
       "      <td>6</td>\n",
       "      <td>11.73</td>\n",
       "      <td>United Kingdom</td>\n",
       "    </tr>\n",
       "    <tr>\n",
       "      <th>1</th>\n",
       "      <td>337701</td>\n",
       "      <td>6283376</td>\n",
       "      <td>2018-12-26 09:06:00</td>\n",
       "      <td>482370</td>\n",
       "      <td>LONDON BUS COFFEE MUG</td>\n",
       "      <td>3</td>\n",
       "      <td>3.52</td>\n",
       "      <td>United Kingdom</td>\n",
       "    </tr>\n",
       "    <tr>\n",
       "      <th>2</th>\n",
       "      <td>267099</td>\n",
       "      <td>6385599</td>\n",
       "      <td>2019-02-15 09:45:00</td>\n",
       "      <td>490728</td>\n",
       "      <td>SET 12 COLOUR PENCILS DOLLY GIRL</td>\n",
       "      <td>72</td>\n",
       "      <td>0.90</td>\n",
       "      <td>France</td>\n",
       "    </tr>\n",
       "    <tr>\n",
       "      <th>3</th>\n",
       "      <td>380478</td>\n",
       "      <td>6044973</td>\n",
       "      <td>2018-06-22 07:14:00</td>\n",
       "      <td>459186</td>\n",
       "      <td>UNION JACK FLAG LUGGAGE TAG</td>\n",
       "      <td>3</td>\n",
       "      <td>1.73</td>\n",
       "      <td>United Kingdom</td>\n",
       "    </tr>\n",
       "    <tr>\n",
       "      <th>5</th>\n",
       "      <td>285957</td>\n",
       "      <td>6307136</td>\n",
       "      <td>2019-01-11 09:50:00</td>\n",
       "      <td>1787247</td>\n",
       "      <td>CUT GLASS T-LIGHT HOLDER OCTAGON</td>\n",
       "      <td>12</td>\n",
       "      <td>3.52</td>\n",
       "      <td>United Kingdom</td>\n",
       "    </tr>\n",
       "  </tbody>\n",
       "</table>\n",
       "</div>"
      ],
      "text/plain": [
       "   UserId  TransactionId     TransactionTime  ItemCode  \\\n",
       "0  278166        6355745 2019-02-02 12:50:00    465549   \n",
       "1  337701        6283376 2018-12-26 09:06:00    482370   \n",
       "2  267099        6385599 2019-02-15 09:45:00    490728   \n",
       "3  380478        6044973 2018-06-22 07:14:00    459186   \n",
       "5  285957        6307136 2019-01-11 09:50:00   1787247   \n",
       "\n",
       "                     ItemDescription  NumberOfItemsPurchased  CostPerItem  \\\n",
       "0   FAMILY ALBUM WHITE PICTURE FRAME                       6        11.73   \n",
       "1              LONDON BUS COFFEE MUG                       3         3.52   \n",
       "2  SET 12 COLOUR PENCILS DOLLY GIRL                       72         0.90   \n",
       "3        UNION JACK FLAG LUGGAGE TAG                       3         1.73   \n",
       "5   CUT GLASS T-LIGHT HOLDER OCTAGON                      12         3.52   \n",
       "\n",
       "          Country  \n",
       "0  United Kingdom  \n",
       "1  United Kingdom  \n",
       "2          France  \n",
       "3  United Kingdom  \n",
       "5  United Kingdom  "
      ]
     },
     "execution_count": 33,
     "metadata": {},
     "output_type": "execute_result"
    }
   ],
   "source": [
    "Main_Dataset.head(5)"
   ]
  },
  {
   "cell_type": "markdown",
   "metadata": {},
   "source": [
    "Now we have a clean data to proceed further"
   ]
  },
  {
   "cell_type": "markdown",
   "metadata": {},
   "source": [
    "## Feature Engineering"
   ]
  },
  {
   "cell_type": "code",
   "execution_count": 34,
   "metadata": {},
   "outputs": [
    {
     "data": {
      "text/html": [
       "<div>\n",
       "<style scoped>\n",
       "    .dataframe tbody tr th:only-of-type {\n",
       "        vertical-align: middle;\n",
       "    }\n",
       "\n",
       "    .dataframe tbody tr th {\n",
       "        vertical-align: top;\n",
       "    }\n",
       "\n",
       "    .dataframe thead th {\n",
       "        text-align: right;\n",
       "    }\n",
       "</style>\n",
       "<table border=\"1\" class=\"dataframe\">\n",
       "  <thead>\n",
       "    <tr style=\"text-align: right;\">\n",
       "      <th></th>\n",
       "      <th>UserId</th>\n",
       "      <th>TransactionId</th>\n",
       "      <th>ItemCode</th>\n",
       "      <th>NumberOfItemsPurchased</th>\n",
       "      <th>CostPerItem</th>\n",
       "    </tr>\n",
       "  </thead>\n",
       "  <tbody>\n",
       "    <tr>\n",
       "      <th>count</th>\n",
       "      <td>811392.000000</td>\n",
       "      <td>8.113920e+05</td>\n",
       "      <td>8.113920e+05</td>\n",
       "      <td>811392.000000</td>\n",
       "      <td>8.113920e+05</td>\n",
       "    </tr>\n",
       "    <tr>\n",
       "      <th>mean</th>\n",
       "      <td>321032.555712</td>\n",
       "      <td>6.167106e+06</td>\n",
       "      <td>6.457626e+05</td>\n",
       "      <td>40.204737</td>\n",
       "      <td>8.961535e+00</td>\n",
       "    </tr>\n",
       "    <tr>\n",
       "      <th>std</th>\n",
       "      <td>35974.154064</td>\n",
       "      <td>1.437385e+05</td>\n",
       "      <td>4.327166e+05</td>\n",
       "      <td>746.829234</td>\n",
       "      <td>2.664881e+03</td>\n",
       "    </tr>\n",
       "    <tr>\n",
       "      <th>min</th>\n",
       "      <td>259266.000000</td>\n",
       "      <td>5.900015e+06</td>\n",
       "      <td>4.200000e+01</td>\n",
       "      <td>3.000000</td>\n",
       "      <td>0.000000e+00</td>\n",
       "    </tr>\n",
       "    <tr>\n",
       "      <th>25%</th>\n",
       "      <td>293055.000000</td>\n",
       "      <td>6.041827e+06</td>\n",
       "      <td>4.626090e+05</td>\n",
       "      <td>6.000000</td>\n",
       "      <td>1.730000e+00</td>\n",
       "    </tr>\n",
       "    <tr>\n",
       "      <th>50%</th>\n",
       "      <td>318192.000000</td>\n",
       "      <td>6.180834e+06</td>\n",
       "      <td>4.759860e+05</td>\n",
       "      <td>15.000000</td>\n",
       "      <td>2.700000e+00</td>\n",
       "    </tr>\n",
       "    <tr>\n",
       "      <th>75%</th>\n",
       "      <td>352611.000000</td>\n",
       "      <td>6.292814e+06</td>\n",
       "      <td>4.886280e+05</td>\n",
       "      <td>36.000000</td>\n",
       "      <td>5.180000e+00</td>\n",
       "    </tr>\n",
       "    <tr>\n",
       "      <th>max</th>\n",
       "      <td>384027.000000</td>\n",
       "      <td>6.397457e+06</td>\n",
       "      <td>1.894494e+06</td>\n",
       "      <td>242985.000000</td>\n",
       "      <td>1.696285e+06</td>\n",
       "    </tr>\n",
       "  </tbody>\n",
       "</table>\n",
       "</div>"
      ],
      "text/plain": [
       "              UserId  TransactionId      ItemCode  NumberOfItemsPurchased  \\\n",
       "count  811392.000000   8.113920e+05  8.113920e+05           811392.000000   \n",
       "mean   321032.555712   6.167106e+06  6.457626e+05               40.204737   \n",
       "std     35974.154064   1.437385e+05  4.327166e+05              746.829234   \n",
       "min    259266.000000   5.900015e+06  4.200000e+01                3.000000   \n",
       "25%    293055.000000   6.041827e+06  4.626090e+05                6.000000   \n",
       "50%    318192.000000   6.180834e+06  4.759860e+05               15.000000   \n",
       "75%    352611.000000   6.292814e+06  4.886280e+05               36.000000   \n",
       "max    384027.000000   6.397457e+06  1.894494e+06           242985.000000   \n",
       "\n",
       "        CostPerItem  \n",
       "count  8.113920e+05  \n",
       "mean   8.961535e+00  \n",
       "std    2.664881e+03  \n",
       "min    0.000000e+00  \n",
       "25%    1.730000e+00  \n",
       "50%    2.700000e+00  \n",
       "75%    5.180000e+00  \n",
       "max    1.696285e+06  "
      ]
     },
     "execution_count": 34,
     "metadata": {},
     "output_type": "execute_result"
    }
   ],
   "source": [
    "Main_Dataset.describe()"
   ]
  },
  {
   "cell_type": "markdown",
   "metadata": {},
   "source": [
    "Lets find the total cost and find the daily revenue, weekly revenue and Yearly revenue"
   ]
  },
  {
   "cell_type": "code",
   "execution_count": 35,
   "metadata": {},
   "outputs": [],
   "source": [
    "Main_Dataset[\"TotalCost\"] = Main_Dataset.NumberOfItemsPurchased * Main_Dataset.CostPerItem"
   ]
  },
  {
   "cell_type": "code",
   "execution_count": 36,
   "metadata": {},
   "outputs": [],
   "source": [
    "Main_Dataset[\"Year\"] = Main_Dataset.TransactionTime.dt.year\n",
    "Main_Dataset[\"Quarter\"] = Main_Dataset.TransactionTime.dt.quarter\n",
    "Main_Dataset[\"Month\"] = Main_Dataset.TransactionTime.dt.month\n",
    "Main_Dataset[\"Week\"] = Main_Dataset.TransactionTime.dt.week\n",
    "Main_Dataset[\"Weekday\"] = Main_Dataset.TransactionTime.dt.weekday\n",
    "Main_Dataset[\"Day\"] = Main_Dataset.TransactionTime.dt.day\n",
    "Main_Dataset[\"Dayofyear\"] = Main_Dataset.TransactionTime.dt.dayofyear\n",
    "Main_Dataset[\"Date\"] = pd.to_datetime(Main_Dataset[['Year', 'Month', 'Day']])"
   ]
  },
  {
   "cell_type": "code",
   "execution_count": 37,
   "metadata": {},
   "outputs": [
    {
     "data": {
      "text/html": [
       "<div>\n",
       "<style scoped>\n",
       "    .dataframe tbody tr th:only-of-type {\n",
       "        vertical-align: middle;\n",
       "    }\n",
       "\n",
       "    .dataframe tbody tr th {\n",
       "        vertical-align: top;\n",
       "    }\n",
       "\n",
       "    .dataframe thead th {\n",
       "        text-align: right;\n",
       "    }\n",
       "</style>\n",
       "<table border=\"1\" class=\"dataframe\">\n",
       "  <thead>\n",
       "    <tr style=\"text-align: right;\">\n",
       "      <th></th>\n",
       "      <th>UserId</th>\n",
       "      <th>TransactionId</th>\n",
       "      <th>TransactionTime</th>\n",
       "      <th>ItemCode</th>\n",
       "      <th>ItemDescription</th>\n",
       "      <th>NumberOfItemsPurchased</th>\n",
       "      <th>CostPerItem</th>\n",
       "      <th>Country</th>\n",
       "      <th>TotalCost</th>\n",
       "      <th>Year</th>\n",
       "      <th>Quarter</th>\n",
       "      <th>Month</th>\n",
       "      <th>Week</th>\n",
       "      <th>Weekday</th>\n",
       "      <th>Day</th>\n",
       "      <th>Dayofyear</th>\n",
       "      <th>Date</th>\n",
       "    </tr>\n",
       "  </thead>\n",
       "  <tbody>\n",
       "    <tr>\n",
       "      <th>0</th>\n",
       "      <td>278166</td>\n",
       "      <td>6355745</td>\n",
       "      <td>2019-02-02 12:50:00</td>\n",
       "      <td>465549</td>\n",
       "      <td>FAMILY ALBUM WHITE PICTURE FRAME</td>\n",
       "      <td>6</td>\n",
       "      <td>11.73</td>\n",
       "      <td>United Kingdom</td>\n",
       "      <td>70.38</td>\n",
       "      <td>2019</td>\n",
       "      <td>1</td>\n",
       "      <td>2</td>\n",
       "      <td>5</td>\n",
       "      <td>5</td>\n",
       "      <td>2</td>\n",
       "      <td>33</td>\n",
       "      <td>2019-02-02</td>\n",
       "    </tr>\n",
       "    <tr>\n",
       "      <th>1</th>\n",
       "      <td>337701</td>\n",
       "      <td>6283376</td>\n",
       "      <td>2018-12-26 09:06:00</td>\n",
       "      <td>482370</td>\n",
       "      <td>LONDON BUS COFFEE MUG</td>\n",
       "      <td>3</td>\n",
       "      <td>3.52</td>\n",
       "      <td>United Kingdom</td>\n",
       "      <td>10.56</td>\n",
       "      <td>2018</td>\n",
       "      <td>4</td>\n",
       "      <td>12</td>\n",
       "      <td>52</td>\n",
       "      <td>2</td>\n",
       "      <td>26</td>\n",
       "      <td>360</td>\n",
       "      <td>2018-12-26</td>\n",
       "    </tr>\n",
       "    <tr>\n",
       "      <th>2</th>\n",
       "      <td>267099</td>\n",
       "      <td>6385599</td>\n",
       "      <td>2019-02-15 09:45:00</td>\n",
       "      <td>490728</td>\n",
       "      <td>SET 12 COLOUR PENCILS DOLLY GIRL</td>\n",
       "      <td>72</td>\n",
       "      <td>0.90</td>\n",
       "      <td>France</td>\n",
       "      <td>64.80</td>\n",
       "      <td>2019</td>\n",
       "      <td>1</td>\n",
       "      <td>2</td>\n",
       "      <td>7</td>\n",
       "      <td>4</td>\n",
       "      <td>15</td>\n",
       "      <td>46</td>\n",
       "      <td>2019-02-15</td>\n",
       "    </tr>\n",
       "    <tr>\n",
       "      <th>3</th>\n",
       "      <td>380478</td>\n",
       "      <td>6044973</td>\n",
       "      <td>2018-06-22 07:14:00</td>\n",
       "      <td>459186</td>\n",
       "      <td>UNION JACK FLAG LUGGAGE TAG</td>\n",
       "      <td>3</td>\n",
       "      <td>1.73</td>\n",
       "      <td>United Kingdom</td>\n",
       "      <td>5.19</td>\n",
       "      <td>2018</td>\n",
       "      <td>2</td>\n",
       "      <td>6</td>\n",
       "      <td>25</td>\n",
       "      <td>4</td>\n",
       "      <td>22</td>\n",
       "      <td>173</td>\n",
       "      <td>2018-06-22</td>\n",
       "    </tr>\n",
       "    <tr>\n",
       "      <th>5</th>\n",
       "      <td>285957</td>\n",
       "      <td>6307136</td>\n",
       "      <td>2019-01-11 09:50:00</td>\n",
       "      <td>1787247</td>\n",
       "      <td>CUT GLASS T-LIGHT HOLDER OCTAGON</td>\n",
       "      <td>12</td>\n",
       "      <td>3.52</td>\n",
       "      <td>United Kingdom</td>\n",
       "      <td>42.24</td>\n",
       "      <td>2019</td>\n",
       "      <td>1</td>\n",
       "      <td>1</td>\n",
       "      <td>2</td>\n",
       "      <td>4</td>\n",
       "      <td>11</td>\n",
       "      <td>11</td>\n",
       "      <td>2019-01-11</td>\n",
       "    </tr>\n",
       "  </tbody>\n",
       "</table>\n",
       "</div>"
      ],
      "text/plain": [
       "   UserId  TransactionId     TransactionTime  ItemCode  \\\n",
       "0  278166        6355745 2019-02-02 12:50:00    465549   \n",
       "1  337701        6283376 2018-12-26 09:06:00    482370   \n",
       "2  267099        6385599 2019-02-15 09:45:00    490728   \n",
       "3  380478        6044973 2018-06-22 07:14:00    459186   \n",
       "5  285957        6307136 2019-01-11 09:50:00   1787247   \n",
       "\n",
       "                     ItemDescription  NumberOfItemsPurchased  CostPerItem  \\\n",
       "0   FAMILY ALBUM WHITE PICTURE FRAME                       6        11.73   \n",
       "1              LONDON BUS COFFEE MUG                       3         3.52   \n",
       "2  SET 12 COLOUR PENCILS DOLLY GIRL                       72         0.90   \n",
       "3        UNION JACK FLAG LUGGAGE TAG                       3         1.73   \n",
       "5   CUT GLASS T-LIGHT HOLDER OCTAGON                      12         3.52   \n",
       "\n",
       "          Country  TotalCost  Year  Quarter  Month  Week  Weekday  Day  \\\n",
       "0  United Kingdom      70.38  2019        1      2     5        5    2   \n",
       "1  United Kingdom      10.56  2018        4     12    52        2   26   \n",
       "2          France      64.80  2019        1      2     7        4   15   \n",
       "3  United Kingdom       5.19  2018        2      6    25        4   22   \n",
       "5  United Kingdom      42.24  2019        1      1     2        4   11   \n",
       "\n",
       "   Dayofyear       Date  \n",
       "0         33 2019-02-02  \n",
       "1        360 2018-12-26  \n",
       "2         46 2019-02-15  \n",
       "3        173 2018-06-22  \n",
       "5         11 2019-01-11  "
      ]
     },
     "execution_count": 37,
     "metadata": {},
     "output_type": "execute_result"
    }
   ],
   "source": [
    "Main_Dataset.head()"
   ]
  },
  {
   "cell_type": "markdown",
   "metadata": {},
   "source": [
    "### Get the year wise revenue"
   ]
  },
  {
   "cell_type": "code",
   "execution_count": 38,
   "metadata": {},
   "outputs": [
    {
     "data": {
      "text/plain": [
       "Year\n",
       "2019    1.916904e+07\n",
       "2018    1.408186e+08\n",
       "Name: TotalCost, dtype: float64"
      ]
     },
     "execution_count": 38,
     "metadata": {},
     "output_type": "execute_result"
    }
   ],
   "source": [
    "year_revenue = Main_Dataset.groupby(Main_Dataset['Year'])['TotalCost'].sum().sort_values()\n",
    "year_revenue"
   ]
  },
  {
   "cell_type": "code",
   "execution_count": 39,
   "metadata": {},
   "outputs": [
    {
     "data": {
      "image/png": "[encoded data removed]",
      "text/plain": [
       "<Figure size 360x360 with 1 Axes>"
      ]
     },
     "metadata": {
      "needs_background": "light"
     },
     "output_type": "display_data"
    }
   ],
   "source": [
    "import seaborn as sns\n",
    "plt.figure(figsize=(5,5))\n",
    "sns.barplot(year_revenue.index, year_revenue.values, order=year_revenue.index)\n",
    "plt.ylabel(\"Total Revenue\")\n",
    "plt.xlabel(\"Year\")\n",
    "plt.title(\"Get the year wise revenue\");"
   ]
  },
  {
   "cell_type": "markdown",
   "metadata": {},
   "source": [
    "### Get the month wise revenue"
   ]
  },
  {
   "cell_type": "code",
   "execution_count": 40,
   "metadata": {},
   "outputs": [
    {
     "data": {
      "text/plain": [
       "Month\n",
       "2     9.474979e+07\n",
       "12    9.840201e+06\n",
       "1     9.824797e+06\n",
       "10    6.162765e+06\n",
       "8     5.968027e+06\n",
       "11    5.578709e+06\n",
       "6     5.298310e+06\n",
       "4     5.274647e+06\n",
       "7     5.222031e+06\n",
       "9     4.726724e+06\n",
       "5     4.433023e+06\n",
       "3     2.908658e+06\n",
       "Name: TotalCost, dtype: float64"
      ]
     },
     "execution_count": 40,
     "metadata": {},
     "output_type": "execute_result"
    }
   ],
   "source": [
    "month_revenue = Main_Dataset.groupby(Main_Dataset['Month'])['TotalCost'].sum().sort_values(ascending = False)\n",
    "month_revenue"
   ]
  },
  {
   "cell_type": "code",
   "execution_count": 41,
   "metadata": {},
   "outputs": [
    {
     "data": {
      "image/png": "[encoded data removed]",
      "text/plain": [
       "<Figure size 720x360 with 1 Axes>"
      ]
     },
     "metadata": {
      "needs_background": "light"
     },
     "output_type": "display_data"
    }
   ],
   "source": [
    "plt.figure(figsize=(10,5))\n",
    "sns.barplot(month_revenue.index, month_revenue.values, order=month_revenue.index)\n",
    "plt.ylabel(\"Total Revenue\")\n",
    "plt.xlabel(\"Month\")\n",
    "plt.title(\"Get the month wise revenue\");"
   ]
  },
  {
   "cell_type": "markdown",
   "metadata": {},
   "source": [
    "### Which Item codes are most common?"
   ]
  },
  {
   "cell_type": "code",
   "execution_count": 58,
   "metadata": {},
   "outputs": [
    {
     "data": {
      "text/plain": [
       "1787079    6029\n",
       "1787583    4142\n",
       "470883     3814\n",
       "998886     3495\n",
       "1782459    2832\n",
       "Name: ItemCode, dtype: int64"
      ]
     },
     "execution_count": 58,
     "metadata": {},
     "output_type": "execute_result"
    }
   ],
   "source": [
    "itemcode_counts = Main_Dataset.ItemCode.value_counts().sort_values(ascending=False)\n",
    "itemcode_counts.head()"
   ]
  },
  {
   "cell_type": "code",
   "execution_count": 59,
   "metadata": {},
   "outputs": [
    {
     "data": {
      "text/plain": [
       "Text(0.5, 1.0, 'Which Itemcodes are most common?')"
      ]
     },
     "execution_count": 59,
     "metadata": {},
     "output_type": "execute_result"
    },
    {
     "data": {
      "image/png": "[encoded data removed]",
      "text/plain": [
       "<Figure size 1440x576 with 1 Axes>"
      ]
     },
     "metadata": {
      "needs_background": "light"
     },
     "output_type": "display_data"
    }
   ],
   "source": [
    "plt.figure(figsize=(20,8))\n",
    "sns.barplot(itemcode_counts.iloc[0:20].index,\n",
    "            itemcode_counts.iloc[0:20].values,\n",
    "            palette=\"Oranges_r\")\n",
    "plt.ylabel(\"Counts\")\n",
    "plt.xlabel(\"itemcode\")\n",
    "plt.title(\"Which Itemcodes are most common?\")"
   ]
  },
  {
   "cell_type": "markdown",
   "metadata": {},
   "source": [
    "### Create csv file which has segmented based on most purchased Items on its code"
   ]
  },
  {
   "cell_type": "code",
   "execution_count": 60,
   "metadata": {},
   "outputs": [],
   "source": [
    "output_4_Itemcodes = pd.DataFrame({'ItemCodes' : itemcode_counts.index, 'Counts' : itemcode_counts.values})\n",
    "output_4_Itemcodes.to_csv('Most_Common_ItemCodes.csv', index=False)"
   ]
  },
  {
   "cell_type": "markdown",
   "metadata": {},
   "source": [
    "### Which customers are most common?"
   ]
  },
  {
   "cell_type": "code",
   "execution_count": 44,
   "metadata": {},
   "outputs": [
    {
     "data": {
      "text/plain": [
       "374661    15966\n",
       "313131    11806\n",
       "296016    10256\n",
       "267708     9166\n",
       "306726     5564\n",
       "Name: UserId, dtype: int64"
      ]
     },
     "execution_count": 44,
     "metadata": {},
     "output_type": "execute_result"
    }
   ],
   "source": [
    "customer_counts = Main_Dataset.UserId.value_counts().sort_values(ascending=False).iloc[0:20] \n",
    "customer_counts.head()"
   ]
  },
  {
   "cell_type": "code",
   "execution_count": 45,
   "metadata": {},
   "outputs": [
    {
     "data": {
      "image/png": "[encoded data removed]",
      "text/plain": [
       "<Figure size 1440x360 with 1 Axes>"
      ]
     },
     "metadata": {
      "needs_background": "light"
     },
     "output_type": "display_data"
    }
   ],
   "source": [
    "plt.figure(figsize=(20,5))\n",
    "sns.barplot(customer_counts.index, customer_counts.values, order=customer_counts.index)\n",
    "plt.ylabel(\"Counts\")\n",
    "plt.xlabel(\"UserId\")\n",
    "plt.title(\"Which customers are most common?\");"
   ]
  },
  {
   "cell_type": "markdown",
   "metadata": {},
   "source": [
    "### Create csv file which has segmented based on most purchased customers"
   ]
  },
  {
   "cell_type": "code",
   "execution_count": 61,
   "metadata": {},
   "outputs": [],
   "source": [
    "output_4_customer = pd.DataFrame({'UserId' : customer_counts.index, 'Counts' : customer_counts.values})\n",
    "output_4_customer.to_csv('Most_Common_Customer.csv', index=False)"
   ]
  },
  {
   "cell_type": "markdown",
   "metadata": {},
   "source": [
    "### How many orders for each country?"
   ]
  },
  {
   "cell_type": "code",
   "execution_count": 46,
   "metadata": {},
   "outputs": [
    {
     "data": {
      "text/plain": [
       "Country\n",
       "United Kingdom    721708\n",
       "Germany            18956\n",
       "France             16860\n",
       "EIRE               14970\n",
       "Spain               5066\n",
       "Name: TransactionId, dtype: int64"
      ]
     },
     "execution_count": 46,
     "metadata": {},
     "output_type": "execute_result"
    }
   ],
   "source": [
    "group_country_orders = Main_Dataset.groupby('Country')['TransactionId'].count().sort_values(ascending=False)\n",
    "group_country_orders.head()"
   ]
  },
  {
   "cell_type": "code",
   "execution_count": 47,
   "metadata": {},
   "outputs": [
    {
     "data": {
      "image/png": "[encoded data removed]",
      "text/plain": [
       "<Figure size 1440x720 with 1 Axes>"
      ]
     },
     "metadata": {
      "needs_background": "light"
     },
     "output_type": "display_data"
    }
   ],
   "source": [
    "#Graphical Representation\n",
    "group_country_orders.plot.barh(fontsize=12)\n",
    "plt.xlabel('Number of Orders', fontsize=12)\n",
    "plt.ylabel('Country', fontsize=12)\n",
    "plt.title('Number of Orders for different Countries', fontsize=12)\n",
    "plt.show()"
   ]
  },
  {
   "cell_type": "markdown",
   "metadata": {},
   "source": [
    "### Create csv file which has segmented based on most purchased country"
   ]
  },
  {
   "cell_type": "code",
   "execution_count": 62,
   "metadata": {},
   "outputs": [],
   "source": [
    "output_4_country = pd.DataFrame({'Country' : group_country_orders.index, 'Number of orders' : group_country_orders.values})\n",
    "output_4_country.to_csv('Most_Common_Country.csv', index=False)"
   ]
  },
  {
   "cell_type": "markdown",
   "metadata": {},
   "source": [
    "Now delete the unwanted columns for future prediction"
   ]
  },
  {
   "cell_type": "code",
   "execution_count": 48,
   "metadata": {},
   "outputs": [
    {
     "data": {
      "text/plain": [
       "Index(['UserId', 'TransactionId', 'TransactionTime', 'ItemCode',\n",
       "       'ItemDescription', 'NumberOfItemsPurchased', 'CostPerItem', 'Country',\n",
       "       'TotalCost', 'Year', 'Quarter', 'Month', 'Week', 'Weekday', 'Day',\n",
       "       'Dayofyear', 'Date'],\n",
       "      dtype='object')"
      ]
     },
     "execution_count": 48,
     "metadata": {},
     "output_type": "execute_result"
    }
   ],
   "source": [
    "Main_Dataset.columns"
   ]
  },
  {
   "cell_type": "code",
   "execution_count": 52,
   "metadata": {},
   "outputs": [],
   "source": [
    "Main_Dataset = Main_Dataset.drop(['CostPerItem'],axis=1)\n",
    "Main_Dataset = Main_Dataset.drop(['TotalCost'],axis=1)\n",
    "Main_Dataset = Main_Dataset.drop(['Year'],axis=1)\n",
    "Main_Dataset = Main_Dataset.drop(['Quarter'],axis=1)\n",
    "Main_Dataset = Main_Dataset.drop(['Month'],axis=1)\n",
    "Main_Dataset = Main_Dataset.drop(['Week'],axis=1)\n",
    "Main_Dataset = Main_Dataset.drop(['Weekday'],axis=1)\n",
    "Main_Dataset = Main_Dataset.drop(['Day'],axis=1)\n",
    "Main_Dataset = Main_Dataset.drop(['Dayofyear'],axis=1)\n",
    "Main_Dataset = Main_Dataset.drop(['Date'],axis=1)\n",
    "Main_Dataset = Main_Dataset.drop(['TransactionId'],axis=1)\n",
    "Main_Dataset = Main_Dataset.drop(['TransactionTime'],axis=1)"
   ]
  },
  {
   "cell_type": "code",
   "execution_count": 63,
   "metadata": {},
   "outputs": [
    {
     "data": {
      "text/html": [
       "<div>\n",
       "<style scoped>\n",
       "    .dataframe tbody tr th:only-of-type {\n",
       "        vertical-align: middle;\n",
       "    }\n",
       "\n",
       "    .dataframe tbody tr th {\n",
       "        vertical-align: top;\n",
       "    }\n",
       "\n",
       "    .dataframe thead th {\n",
       "        text-align: right;\n",
       "    }\n",
       "</style>\n",
       "<table border=\"1\" class=\"dataframe\">\n",
       "  <thead>\n",
       "    <tr style=\"text-align: right;\">\n",
       "      <th></th>\n",
       "      <th>UserId</th>\n",
       "      <th>ItemCode</th>\n",
       "      <th>ItemDescription</th>\n",
       "      <th>NumberOfItemsPurchased</th>\n",
       "      <th>Country</th>\n",
       "    </tr>\n",
       "  </thead>\n",
       "  <tbody>\n",
       "    <tr>\n",
       "      <th>0</th>\n",
       "      <td>278166</td>\n",
       "      <td>465549</td>\n",
       "      <td>FAMILY ALBUM WHITE PICTURE FRAME</td>\n",
       "      <td>6</td>\n",
       "      <td>United Kingdom</td>\n",
       "    </tr>\n",
       "    <tr>\n",
       "      <th>1</th>\n",
       "      <td>337701</td>\n",
       "      <td>482370</td>\n",
       "      <td>LONDON BUS COFFEE MUG</td>\n",
       "      <td>3</td>\n",
       "      <td>United Kingdom</td>\n",
       "    </tr>\n",
       "    <tr>\n",
       "      <th>2</th>\n",
       "      <td>267099</td>\n",
       "      <td>490728</td>\n",
       "      <td>SET 12 COLOUR PENCILS DOLLY GIRL</td>\n",
       "      <td>72</td>\n",
       "      <td>France</td>\n",
       "    </tr>\n",
       "    <tr>\n",
       "      <th>3</th>\n",
       "      <td>380478</td>\n",
       "      <td>459186</td>\n",
       "      <td>UNION JACK FLAG LUGGAGE TAG</td>\n",
       "      <td>3</td>\n",
       "      <td>United Kingdom</td>\n",
       "    </tr>\n",
       "    <tr>\n",
       "      <th>5</th>\n",
       "      <td>285957</td>\n",
       "      <td>1787247</td>\n",
       "      <td>CUT GLASS T-LIGHT HOLDER OCTAGON</td>\n",
       "      <td>12</td>\n",
       "      <td>United Kingdom</td>\n",
       "    </tr>\n",
       "    <tr>\n",
       "      <th>...</th>\n",
       "      <td>...</td>\n",
       "      <td>...</td>\n",
       "      <td>...</td>\n",
       "      <td>...</td>\n",
       "      <td>...</td>\n",
       "    </tr>\n",
       "    <tr>\n",
       "      <th>1083812</th>\n",
       "      <td>261681</td>\n",
       "      <td>477330</td>\n",
       "      <td>ALARM CLOCK BAKELIKE IVORY</td>\n",
       "      <td>12</td>\n",
       "      <td>Switzerland</td>\n",
       "    </tr>\n",
       "    <tr>\n",
       "      <th>1083813</th>\n",
       "      <td>313131</td>\n",
       "      <td>437976</td>\n",
       "      <td>DENIM PATCH PURSE PINK BUTTERFLY</td>\n",
       "      <td>30</td>\n",
       "      <td>EIRE</td>\n",
       "    </tr>\n",
       "    <tr>\n",
       "      <th>1083814</th>\n",
       "      <td>295743</td>\n",
       "      <td>484113</td>\n",
       "      <td>RECYCLED ACAPULCO MAT PINK</td>\n",
       "      <td>6</td>\n",
       "      <td>United Kingdom</td>\n",
       "    </tr>\n",
       "    <tr>\n",
       "      <th>1083816</th>\n",
       "      <td>324765</td>\n",
       "      <td>470883</td>\n",
       "      <td>REGENCY CAKESTAND 3 TIER</td>\n",
       "      <td>48</td>\n",
       "      <td>United Kingdom</td>\n",
       "    </tr>\n",
       "    <tr>\n",
       "      <th>1083817</th>\n",
       "      <td>351645</td>\n",
       "      <td>471849</td>\n",
       "      <td>HEART OF WICKER SMALL</td>\n",
       "      <td>9</td>\n",
       "      <td>United Kingdom</td>\n",
       "    </tr>\n",
       "  </tbody>\n",
       "</table>\n",
       "<p>811392 rows × 5 columns</p>\n",
       "</div>"
      ],
      "text/plain": [
       "         UserId  ItemCode                    ItemDescription  \\\n",
       "0        278166    465549   FAMILY ALBUM WHITE PICTURE FRAME   \n",
       "1        337701    482370              LONDON BUS COFFEE MUG   \n",
       "2        267099    490728  SET 12 COLOUR PENCILS DOLLY GIRL    \n",
       "3        380478    459186        UNION JACK FLAG LUGGAGE TAG   \n",
       "5        285957   1787247   CUT GLASS T-LIGHT HOLDER OCTAGON   \n",
       "...         ...       ...                                ...   \n",
       "1083812  261681    477330         ALARM CLOCK BAKELIKE IVORY   \n",
       "1083813  313131    437976   DENIM PATCH PURSE PINK BUTTERFLY   \n",
       "1083814  295743    484113         RECYCLED ACAPULCO MAT PINK   \n",
       "1083816  324765    470883           REGENCY CAKESTAND 3 TIER   \n",
       "1083817  351645    471849              HEART OF WICKER SMALL   \n",
       "\n",
       "         NumberOfItemsPurchased         Country  \n",
       "0                             6  United Kingdom  \n",
       "1                             3  United Kingdom  \n",
       "2                            72          France  \n",
       "3                             3  United Kingdom  \n",
       "5                            12  United Kingdom  \n",
       "...                         ...             ...  \n",
       "1083812                      12     Switzerland  \n",
       "1083813                      30            EIRE  \n",
       "1083814                       6  United Kingdom  \n",
       "1083816                      48  United Kingdom  \n",
       "1083817                       9  United Kingdom  \n",
       "\n",
       "[811392 rows x 5 columns]"
      ]
     },
     "execution_count": 63,
     "metadata": {},
     "output_type": "execute_result"
    }
   ],
   "source": [
    "Main_Dataset"
   ]
  },
  {
   "cell_type": "code",
   "execution_count": 65,
   "metadata": {},
   "outputs": [],
   "source": [
    "Main_Dataset.to_csv('AssignmentResult1_4_Assignment2.csv', index=False)"
   ]
  },
  {
   "cell_type": "code",
   "execution_count": null,
   "metadata": {},
   "outputs": [],
   "source": []
  }
 ],
 "metadata": {
  "kernelspec": {
   "display_name": "Python 3",
   "language": "python",
   "name": "python3"
  },
  "language_info": {
   "codemirror_mode": {
    "name": "ipython",
    "version": 3
   },
   "file_extension": ".py",
   "mimetype": "text/x-python",
   "name": "python",
   "nbconvert_exporter": "python",
   "pygments_lexer": "ipython3",
   "version": "3.7.6"
  }
 },
 "nbformat": 4,
 "nbformat_minor": 4
}
