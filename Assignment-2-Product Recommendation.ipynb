{
 "cells": [
  {
   "cell_type": "code",
   "execution_count": 7,
   "metadata": {},
   "outputs": [],
   "source": [
    "import numpy as np\n",
    "import pandas as pd\n",
    "import matplotlib.pyplot as plt"
   ]
  },
  {
   "cell_type": "code",
   "execution_count": 8,
   "metadata": {},
   "outputs": [],
   "source": [
    "from sklearn.feature_extraction.text import TfidfVectorizer, CountVectorizer\n",
    "from sklearn.neighbors import NearestNeighbors\n",
    "from sklearn.cluster import KMeans\n",
    "from sklearn.metrics import adjusted_rand_score"
   ]
  },
  {
   "cell_type": "code",
   "execution_count": 9,
   "metadata": {},
   "outputs": [
    {
     "data": {
      "text/html": [
       "<div>\n",
       "<style scoped>\n",
       "    .dataframe tbody tr th:only-of-type {\n",
       "        vertical-align: middle;\n",
       "    }\n",
       "\n",
       "    .dataframe tbody tr th {\n",
       "        vertical-align: top;\n",
       "    }\n",
       "\n",
       "    .dataframe thead th {\n",
       "        text-align: right;\n",
       "    }\n",
       "</style>\n",
       "<table border=\"1\" class=\"dataframe\">\n",
       "  <thead>\n",
       "    <tr style=\"text-align: right;\">\n",
       "      <th></th>\n",
       "      <th>UserId</th>\n",
       "      <th>ItemCode</th>\n",
       "      <th>ItemDescription</th>\n",
       "      <th>NumberOfItemsPurchased</th>\n",
       "      <th>Country</th>\n",
       "    </tr>\n",
       "  </thead>\n",
       "  <tbody>\n",
       "    <tr>\n",
       "      <th>0</th>\n",
       "      <td>278166</td>\n",
       "      <td>465549</td>\n",
       "      <td>FAMILY ALBUM WHITE PICTURE FRAME</td>\n",
       "      <td>6</td>\n",
       "      <td>United Kingdom</td>\n",
       "    </tr>\n",
       "    <tr>\n",
       "      <th>1</th>\n",
       "      <td>337701</td>\n",
       "      <td>482370</td>\n",
       "      <td>LONDON BUS COFFEE MUG</td>\n",
       "      <td>3</td>\n",
       "      <td>United Kingdom</td>\n",
       "    </tr>\n",
       "    <tr>\n",
       "      <th>2</th>\n",
       "      <td>267099</td>\n",
       "      <td>490728</td>\n",
       "      <td>SET 12 COLOUR PENCILS DOLLY GIRL</td>\n",
       "      <td>72</td>\n",
       "      <td>France</td>\n",
       "    </tr>\n",
       "    <tr>\n",
       "      <th>3</th>\n",
       "      <td>380478</td>\n",
       "      <td>459186</td>\n",
       "      <td>UNION JACK FLAG LUGGAGE TAG</td>\n",
       "      <td>3</td>\n",
       "      <td>United Kingdom</td>\n",
       "    </tr>\n",
       "    <tr>\n",
       "      <th>4</th>\n",
       "      <td>285957</td>\n",
       "      <td>1787247</td>\n",
       "      <td>CUT GLASS T-LIGHT HOLDER OCTAGON</td>\n",
       "      <td>12</td>\n",
       "      <td>United Kingdom</td>\n",
       "    </tr>\n",
       "  </tbody>\n",
       "</table>\n",
       "</div>"
      ],
      "text/plain": [
       "   UserId  ItemCode                    ItemDescription  \\\n",
       "0  278166    465549   FAMILY ALBUM WHITE PICTURE FRAME   \n",
       "1  337701    482370              LONDON BUS COFFEE MUG   \n",
       "2  267099    490728  SET 12 COLOUR PENCILS DOLLY GIRL    \n",
       "3  380478    459186        UNION JACK FLAG LUGGAGE TAG   \n",
       "4  285957   1787247   CUT GLASS T-LIGHT HOLDER OCTAGON   \n",
       "\n",
       "   NumberOfItemsPurchased         Country  \n",
       "0                       6  United Kingdom  \n",
       "1                       3  United Kingdom  \n",
       "2                      72          France  \n",
       "3                       3  United Kingdom  \n",
       "4                      12  United Kingdom  "
      ]
     },
     "execution_count": 9,
     "metadata": {},
     "output_type": "execute_result"
    }
   ],
   "source": [
    "#Read the data from given CSV file\n",
    "Main_Dataset = pd.read_csv(\"AssignmentResult1_4_Assignment2.csv\")\n",
    "Main_Dataset.head()"
   ]
  },
  {
   "cell_type": "code",
   "execution_count": 10,
   "metadata": {},
   "outputs": [
    {
     "data": {
      "text/plain": [
       "(811392, 5)"
      ]
     },
     "execution_count": 10,
     "metadata": {},
     "output_type": "execute_result"
    }
   ],
   "source": [
    "Main_Dataset.shape"
   ]
  },
  {
   "cell_type": "markdown",
   "metadata": {},
   "source": [
    "Count number of unique users in the dataset"
   ]
  },
  {
   "cell_type": "code",
   "execution_count": 11,
   "metadata": {},
   "outputs": [
    {
     "data": {
      "text/plain": [
       "UserId                    4367\n",
       "ItemCode                  3209\n",
       "ItemDescription           3895\n",
       "NumberOfItemsPurchased     308\n",
       "Country                     37\n",
       "dtype: int64"
      ]
     },
     "execution_count": 11,
     "metadata": {},
     "output_type": "execute_result"
    }
   ],
   "source": [
    "Main_Dataset.nunique()"
   ]
  },
  {
   "cell_type": "markdown",
   "metadata": {},
   "source": [
    "As it is a clean data we go further go for prediction"
   ]
  },
  {
   "cell_type": "markdown",
   "metadata": {},
   "source": [
    "## Item based recommendation system based on product description"
   ]
  },
  {
   "cell_type": "code",
   "execution_count": 17,
   "metadata": {},
   "outputs": [
    {
     "data": {
      "text/plain": [
       "0     FAMILY ALBUM WHITE PICTURE FRAME\n",
       "1                LONDON BUS COFFEE MUG\n",
       "2    SET 12 COLOUR PENCILS DOLLY GIRL \n",
       "3          UNION JACK FLAG LUGGAGE TAG\n",
       "4     CUT GLASS T-LIGHT HOLDER OCTAGON\n",
       "Name: ItemDescription, dtype: object"
      ]
     },
     "execution_count": 17,
     "metadata": {},
     "output_type": "execute_result"
    }
   ],
   "source": [
    "product_descriptions1 = Main_Dataset.head(500)\n",
    "product_descriptions1[\"ItemDescription\"].head(5)"
   ]
  },
  {
   "cell_type": "markdown",
   "metadata": {},
   "source": [
    "Feature extraction from product description.\n",
    "Converting the text in product description into numerical data for analysis"
   ]
  },
  {
   "cell_type": "code",
   "execution_count": 18,
   "metadata": {},
   "outputs": [
    {
     "data": {
      "text/plain": [
       "<500x615 sparse matrix of type '<class 'numpy.float64'>'\n",
       "\twith 2039 stored elements in Compressed Sparse Row format>"
      ]
     },
     "execution_count": 18,
     "metadata": {},
     "output_type": "execute_result"
    }
   ],
   "source": [
    "vectorizer = TfidfVectorizer(stop_words='english')\n",
    "X1 = vectorizer.fit_transform(product_descriptions1[\"ItemDescription\"])\n",
    "X1"
   ]
  },
  {
   "cell_type": "markdown",
   "metadata": {},
   "source": [
    "Visualizing product clusters in subset of data"
   ]
  },
  {
   "cell_type": "code",
   "execution_count": 19,
   "metadata": {},
   "outputs": [
    {
     "data": {
      "image/png": "[encoded data removed]",
      "text/plain": [
       "<Figure size 432x288 with 1 Axes>"
      ]
     },
     "metadata": {
      "needs_background": "light"
     },
     "output_type": "display_data"
    }
   ],
   "source": [
    "X=X1\n",
    "kmeans = KMeans(n_clusters = 10, init = 'k-means++')\n",
    "y_kmeans = kmeans.fit_predict(X)\n",
    "plt.plot(y_kmeans, \".\")\n",
    "plt.show()"
   ]
  },
  {
   "cell_type": "code",
   "execution_count": 21,
   "metadata": {},
   "outputs": [],
   "source": [
    "def print_cluster(i):\n",
    "    print(\"Cluster %d:\" % i),\n",
    "    for ind in order_centroids[i, :10]:\n",
    "        print(' %s' % terms[ind]),\n",
    "    print"
   ]
  },
  {
   "cell_type": "code",
   "execution_count": 22,
   "metadata": {},
   "outputs": [
    {
     "name": "stdout",
     "output_type": "stream",
     "text": [
      "Top terms per cluster:\n",
      "Cluster 0:\n",
      " set\n",
      " vintage\n",
      " christmas\n",
      " blue\n",
      " wooden\n",
      " box\n",
      " bunting\n",
      " mini\n",
      " large\n",
      " clock\n",
      "Cluster 1:\n",
      " retrospot\n",
      " red\n",
      " bag\n",
      " jumbo\n",
      " set\n",
      " lunch\n",
      " charlotte\n",
      " box\n",
      " shopper\n",
      " black\n",
      "Cluster 2:\n",
      " design\n",
      " cake\n",
      " cases\n",
      " 60\n",
      " pack\n",
      " lunch\n",
      " bag\n",
      " 72\n",
      " pantry\n",
      " vintage\n",
      "Cluster 3:\n",
      " pot\n",
      " antique\n",
      " trinket\n",
      " pudding\n",
      " strawberry\n",
      " frame\n",
      " wooden\n",
      " ceramic\n",
      " white\n",
      " ivory\n",
      "Cluster 4:\n",
      " girl\n",
      " 12\n",
      " dolly\n",
      " pack\n",
      " tissues\n",
      " design\n",
      " paisley\n",
      " bag\n",
      " crayons\n",
      " charlotte\n",
      "Cluster 5:\n",
      " metal\n",
      " sign\n",
      " french\n",
      " singing\n",
      " lounge\n",
      " shed\n",
      " blue\n",
      " airline\n",
      " pottering\n",
      " door\n",
      "Cluster 6:\n",
      " light\n",
      " holder\n",
      " hanging\n",
      " glass\n",
      " heart\n",
      " popcorn\n",
      " zinc\n",
      " small\n",
      " victorian\n",
      " stars\n",
      "Cluster 7:\n",
      " pink\n",
      " paper\n",
      " bunting\n",
      " polkadot\n",
      " fan\n",
      " retrospot\n",
      " lace\n",
      " doilies\n",
      " set\n",
      " heart\n",
      "Cluster 8:\n",
      " water\n",
      " hot\n",
      " bottle\n",
      " calm\n",
      " come\n",
      " doormat\n",
      " pad\n",
      " carry\n",
      " gardeners\n",
      " playing\n",
      "Cluster 9:\n",
      " card\n",
      " heart\n",
      " birthday\n",
      " wicker\n",
      " fine\n",
      " white\n",
      " small\n",
      " love\n",
      " suki\n",
      " food\n"
     ]
    }
   ],
   "source": [
    "true_k = 10\n",
    "\n",
    "model = KMeans(n_clusters=true_k, init='k-means++', max_iter=100, n_init=1)\n",
    "model.fit(X1)\n",
    "\n",
    "print(\"Top terms per cluster:\")\n",
    "order_centroids = model.cluster_centers_.argsort()[:, ::-1]\n",
    "terms = vectorizer.get_feature_names()\n",
    "for i in range(true_k):\n",
    "    print_cluster(i)"
   ]
  },
  {
   "cell_type": "markdown",
   "metadata": {},
   "source": [
    "Predicting clusters based on key search words"
   ]
  },
  {
   "cell_type": "code",
   "execution_count": 23,
   "metadata": {},
   "outputs": [],
   "source": [
    "def show_recommendations(product):\n",
    "    #print(\"Cluster ID:\")\n",
    "    Y = vectorizer.transform([product])\n",
    "    prediction = model.predict(Y)\n",
    "    #print(prediction)\n",
    "    print_cluster(prediction[0])"
   ]
  },
  {
   "cell_type": "code",
   "execution_count": 27,
   "metadata": {},
   "outputs": [
    {
     "name": "stdout",
     "output_type": "stream",
     "text": [
      "Cluster 0:\n",
      " set\n",
      " vintage\n",
      " christmas\n",
      " blue\n",
      " wooden\n",
      " box\n",
      " bunting\n",
      " mini\n",
      " large\n",
      " clock\n"
     ]
    }
   ],
   "source": [
    "show_recommendations(\"wooden\")"
   ]
  },
  {
   "cell_type": "markdown",
   "metadata": {},
   "source": [
    "Once a cluster is identified based on the user's search words, the recommendation system can display items from the corresponding product clusters based on the product descriptions."
   ]
  },
  {
   "cell_type": "code",
   "execution_count": null,
   "metadata": {},
   "outputs": [],
   "source": []
  }
 ],
 "metadata": {
  "kernelspec": {
   "display_name": "Python 3",
   "language": "python",
   "name": "python3"
  },
  "language_info": {
   "codemirror_mode": {
    "name": "ipython",
    "version": 3
   },
   "file_extension": ".py",
   "mimetype": "text/x-python",
   "name": "python",
   "nbconvert_exporter": "python",
   "pygments_lexer": "ipython3",
   "version": "3.7.6"
  }
 },
 "nbformat": 4,
 "nbformat_minor": 4
}
